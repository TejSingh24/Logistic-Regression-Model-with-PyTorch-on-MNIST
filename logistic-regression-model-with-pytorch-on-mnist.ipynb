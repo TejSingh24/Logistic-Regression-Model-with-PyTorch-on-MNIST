{
 "cells": [
  {
   "cell_type": "markdown",
   "id": "370fa2c2",
   "metadata": {
    "papermill": {
     "duration": 0.046652,
     "end_time": "2022-11-28T20:42:40.959908",
     "exception": false,
     "start_time": "2022-11-28T20:42:40.913256",
     "status": "completed"
    },
    "tags": []
   },
   "source": [
    "# **Multi-Class Logistic Regression Model and 2-layer Multi-Layer Perceptron for MNIST Digit Classification with PyTorch**"
   ]
  },
  {
   "cell_type": "markdown",
   "id": "3fd2db8a",
   "metadata": {
    "papermill": {
     "duration": 0.044371,
     "end_time": "2022-11-28T20:42:41.050170",
     "exception": false,
     "start_time": "2022-11-28T20:42:41.005799",
     "status": "completed"
    },
    "tags": []
   },
   "source": [
    "Modelling a multi-class logistic regression model with pytorch to predict the digit(0-9) in an image of 28X28 pixels."
   ]
  },
  {
   "cell_type": "markdown",
   "id": "1339d7b9",
   "metadata": {
    "papermill": {
     "duration": 0.043563,
     "end_time": "2022-11-28T20:42:41.136649",
     "exception": false,
     "start_time": "2022-11-28T20:42:41.093086",
     "status": "completed"
    },
    "tags": []
   },
   "source": [
    "Libraries we will use:\n",
    "* Numpy\n",
    "* Matplotlib\n",
    "* Torch\n",
    "* Torchvision\n",
    "* tqdm"
   ]
  },
  {
   "cell_type": "code",
   "execution_count": 1,
   "id": "93d14cf2",
   "metadata": {
    "execution": {
     "iopub.execute_input": "2022-11-28T20:42:41.252964Z",
     "iopub.status.busy": "2022-11-28T20:42:41.249732Z",
     "iopub.status.idle": "2022-11-28T20:42:42.823843Z",
     "shell.execute_reply": "2022-11-28T20:42:42.822438Z",
     "shell.execute_reply.started": "2022-11-28T20:25:33.559565Z"
    },
    "papermill": {
     "duration": 1.631064,
     "end_time": "2022-11-28T20:42:42.824042",
     "exception": false,
     "start_time": "2022-11-28T20:42:41.192978",
     "status": "completed"
    },
    "tags": []
   },
   "outputs": [],
   "source": [
    "# importing liberaries\n",
    "import torch\n",
    "import numpy as np\n",
    "import matplotlib.pyplot as plt\n",
    "from tqdm.notebook import tqdm\n",
    "\n",
    "# importing builtin datasets from torchvision and transforms to transform dataset into tensor.\n",
    "from torchvision import datasets, transforms\n"
   ]
  },
  {
   "cell_type": "markdown",
   "id": "bf0a859c",
   "metadata": {
    "papermill": {
     "duration": 0.042777,
     "end_time": "2022-11-28T20:42:42.909800",
     "exception": false,
     "start_time": "2022-11-28T20:42:42.867023",
     "status": "completed"
    },
    "tags": []
   },
   "source": [
    "We will download MNIST dataset present in torchvision.datasets"
   ]
  },
  {
   "cell_type": "code",
   "execution_count": 2,
   "id": "201e4873",
   "metadata": {
    "_kg_hide-output": true,
    "execution": {
     "iopub.execute_input": "2022-11-28T20:42:43.003801Z",
     "iopub.status.busy": "2022-11-28T20:42:43.002984Z",
     "iopub.status.idle": "2022-11-28T20:42:45.038489Z",
     "shell.execute_reply": "2022-11-28T20:42:45.037896Z",
     "shell.execute_reply.started": "2022-11-28T20:25:33.750015Z"
    },
    "papermill": {
     "duration": 2.085597,
     "end_time": "2022-11-28T20:42:45.038645",
     "exception": false,
     "start_time": "2022-11-28T20:42:42.953048",
     "status": "completed"
    },
    "tags": []
   },
   "outputs": [
    {
     "name": "stdout",
     "output_type": "stream",
     "text": [
      "Downloading http://yann.lecun.com/exdb/mnist/train-images-idx3-ubyte.gz to ./datasets/MNIST/raw/train-images-idx3-ubyte.gz\n"
     ]
    },
    {
     "data": {
      "application/vnd.jupyter.widget-view+json": {
       "model_id": "9d0b795e2c3a48658899b9398231c618",
       "version_major": 2,
       "version_minor": 0
      },
      "text/plain": [
       "0it [00:00, ?it/s]"
      ]
     },
     "metadata": {},
     "output_type": "display_data"
    },
    {
     "name": "stdout",
     "output_type": "stream",
     "text": [
      "Extracting ./datasets/MNIST/raw/train-images-idx3-ubyte.gz to ./datasets/MNIST/raw\n",
      "Downloading http://yann.lecun.com/exdb/mnist/train-labels-idx1-ubyte.gz to ./datasets/MNIST/raw/train-labels-idx1-ubyte.gz\n"
     ]
    },
    {
     "data": {
      "application/vnd.jupyter.widget-view+json": {
       "model_id": "a655761f281b473cb8ab4e9843a7a54c",
       "version_major": 2,
       "version_minor": 0
      },
      "text/plain": [
       "0it [00:00, ?it/s]"
      ]
     },
     "metadata": {},
     "output_type": "display_data"
    },
    {
     "name": "stdout",
     "output_type": "stream",
     "text": [
      "Extracting ./datasets/MNIST/raw/train-labels-idx1-ubyte.gz to ./datasets/MNIST/raw\n",
      "Downloading http://yann.lecun.com/exdb/mnist/t10k-images-idx3-ubyte.gz to ./datasets/MNIST/raw/t10k-images-idx3-ubyte.gz\n"
     ]
    },
    {
     "data": {
      "application/vnd.jupyter.widget-view+json": {
       "model_id": "096c756dad3e4a5691fb68c4483a7a00",
       "version_major": 2,
       "version_minor": 0
      },
      "text/plain": [
       "0it [00:00, ?it/s]"
      ]
     },
     "metadata": {},
     "output_type": "display_data"
    },
    {
     "name": "stdout",
     "output_type": "stream",
     "text": [
      "Extracting ./datasets/MNIST/raw/t10k-images-idx3-ubyte.gz to ./datasets/MNIST/raw\n",
      "Downloading http://yann.lecun.com/exdb/mnist/t10k-labels-idx1-ubyte.gz to ./datasets/MNIST/raw/t10k-labels-idx1-ubyte.gz\n"
     ]
    },
    {
     "data": {
      "application/vnd.jupyter.widget-view+json": {
       "model_id": "d90d12f9618b46fab95862b62fb79f95",
       "version_major": 2,
       "version_minor": 0
      },
      "text/plain": [
       "0it [00:00, ?it/s]"
      ]
     },
     "metadata": {},
     "output_type": "display_data"
    },
    {
     "name": "stdout",
     "output_type": "stream",
     "text": [
      "Extracting ./datasets/MNIST/raw/t10k-labels-idx1-ubyte.gz to ./datasets/MNIST/raw\n",
      "Processing...\n"
     ]
    },
    {
     "name": "stderr",
     "output_type": "stream",
     "text": [
      "/opt/conda/lib/python3.7/site-packages/torchvision/datasets/mnist.py:480: UserWarning: The given NumPy array is not writeable, and PyTorch does not support non-writeable tensors. This means you can write to the underlying (supposedly non-writeable) NumPy array using the tensor. You may want to copy the array to protect its data or make it writeable before converting it to a tensor. This type of warning will be suppressed for the rest of this program. (Triggered internally at  /opt/conda/conda-bld/pytorch_1603729141890/work/torch/csrc/utils/tensor_numpy.cpp:141.)\n",
      "  return torch.from_numpy(parsed.astype(m[2], copy=False)).view(*s)\n"
     ]
    },
    {
     "name": "stdout",
     "output_type": "stream",
     "text": [
      "Done!\n"
     ]
    }
   ],
   "source": [
    "# downloading MNIST dataset's train and train data.\n",
    "mnist_train = datasets.MNIST(root=\"./datasets\", train=True, transform=transforms.ToTensor(), download=True)\n",
    "mnist_test = datasets.MNIST(root=\"./datasets\", train=False, transform=transforms.ToTensor(), download=True)"
   ]
  },
  {
   "cell_type": "markdown",
   "id": "d9d110fa",
   "metadata": {
    "papermill": {
     "duration": 0.046971,
     "end_time": "2022-11-28T20:42:45.133443",
     "exception": false,
     "start_time": "2022-11-28T20:42:45.086472",
     "status": "completed"
    },
    "tags": []
   },
   "source": [
    "Checking number of test and training examples"
   ]
  },
  {
   "cell_type": "code",
   "execution_count": 3,
   "id": "e656ef32",
   "metadata": {
    "execution": {
     "iopub.execute_input": "2022-11-28T20:42:45.233027Z",
     "iopub.status.busy": "2022-11-28T20:42:45.232183Z",
     "iopub.status.idle": "2022-11-28T20:42:45.236060Z",
     "shell.execute_reply": "2022-11-28T20:42:45.236775Z",
     "shell.execute_reply.started": "2022-11-28T20:25:35.709172Z"
    },
    "papermill": {
     "duration": 0.056368,
     "end_time": "2022-11-28T20:42:45.236997",
     "exception": false,
     "start_time": "2022-11-28T20:42:45.180629",
     "status": "completed"
    },
    "tags": []
   },
   "outputs": [
    {
     "name": "stdout",
     "output_type": "stream",
     "text": [
      "Number of MNIST training examples: 60000\n",
      "Number of MNIST test examples: 10000\n"
     ]
    }
   ],
   "source": [
    "print(\"Number of MNIST training examples: {}\".format(len(mnist_train)))\n",
    "print(\"Number of MNIST test examples: {}\".format(len(mnist_test)))"
   ]
  },
  {
   "cell_type": "markdown",
   "id": "51f645c3",
   "metadata": {
    "papermill": {
     "duration": 0.052115,
     "end_time": "2022-11-28T20:42:45.338813",
     "exception": false,
     "start_time": "2022-11-28T20:42:45.286698",
     "status": "completed"
    },
    "tags": []
   },
   "source": [
    "Let's check one example of training set. It contains both input data and corresponding output(label) in form of tuple. Let's extract features:"
   ]
  },
  {
   "cell_type": "code",
   "execution_count": 4,
   "id": "1393aa34",
   "metadata": {
    "execution": {
     "iopub.execute_input": "2022-11-28T20:42:45.438980Z",
     "iopub.status.busy": "2022-11-28T20:42:45.438309Z",
     "iopub.status.idle": "2022-11-28T20:42:45.461085Z",
     "shell.execute_reply": "2022-11-28T20:42:45.461821Z",
     "shell.execute_reply.started": "2022-11-28T20:25:35.719588Z"
    },
    "papermill": {
     "duration": 0.075455,
     "end_time": "2022-11-28T20:42:45.462065",
     "exception": false,
     "start_time": "2022-11-28T20:42:45.386610",
     "status": "completed"
    },
    "tags": []
   },
   "outputs": [
    {
     "name": "stdout",
     "output_type": "stream",
     "text": [
      "Default Image shape: torch.Size([1, 28, 28])\n"
     ]
    }
   ],
   "source": [
    "# checking one example image.\n",
    "image, label = mnist_train[3]\n",
    "\n",
    "print(\"Default Image shape: {}\".format(image.shape))"
   ]
  },
  {
   "cell_type": "markdown",
   "id": "24a219a2",
   "metadata": {
    "papermill": {
     "duration": 0.048261,
     "end_time": "2022-11-28T20:42:45.560091",
     "exception": false,
     "start_time": "2022-11-28T20:42:45.511830",
     "status": "completed"
    },
    "tags": []
   },
   "source": [
    "It is a 3-D tensor(same as a matrix). we will need a 2-D matrix for plotting it as an image through matplotlib."
   ]
  },
  {
   "cell_type": "code",
   "execution_count": 5,
   "id": "30fc7c03",
   "metadata": {
    "execution": {
     "iopub.execute_input": "2022-11-28T20:42:45.662320Z",
     "iopub.status.busy": "2022-11-28T20:42:45.660194Z",
     "iopub.status.idle": "2022-11-28T20:42:45.666150Z",
     "shell.execute_reply": "2022-11-28T20:42:45.666718Z",
     "shell.execute_reply.started": "2022-11-28T20:25:35.754507Z"
    },
    "papermill": {
     "duration": 0.057334,
     "end_time": "2022-11-28T20:42:45.666892",
     "exception": false,
     "start_time": "2022-11-28T20:42:45.609558",
     "status": "completed"
    },
    "tags": []
   },
   "outputs": [
    {
     "name": "stdout",
     "output_type": "stream",
     "text": [
      "Reshaped Image shape: torch.Size([28, 28])\n"
     ]
    }
   ],
   "source": [
    "# reshaping the array into 28 X 28 dimensions as it is a image of 28 X 28 pixels and not 1 X 28 X 28 dimensions.\n",
    "image = image.reshape([28,28])\n",
    "print(\"Reshaped Image shape: {}\".format(image.shape))"
   ]
  },
  {
   "cell_type": "code",
   "execution_count": 6,
   "id": "f0047283",
   "metadata": {
    "execution": {
     "iopub.execute_input": "2022-11-28T20:42:45.767946Z",
     "iopub.status.busy": "2022-11-28T20:42:45.767000Z",
     "iopub.status.idle": "2022-11-28T20:42:45.950323Z",
     "shell.execute_reply": "2022-11-28T20:42:45.949576Z",
     "shell.execute_reply.started": "2022-11-28T20:25:35.764058Z"
    },
    "papermill": {
     "duration": 0.23477,
     "end_time": "2022-11-28T20:42:45.950499",
     "exception": false,
     "start_time": "2022-11-28T20:42:45.715729",
     "status": "completed"
    },
    "tags": []
   },
   "outputs": [
    {
     "name": "stdout",
     "output_type": "stream",
     "text": [
      "Label for this image is: 1\n"
     ]
    },
    {
     "data": {
      "image/png": "[encoded data removed]",
      "text/plain": [
       "<Figure size 432x288 with 1 Axes>"
      ]
     },
     "metadata": {
      "needs_background": "light"
     },
     "output_type": "display_data"
    }
   ],
   "source": [
    "# plotting the image onto graph with grayscale.\n",
    "plt.imshow(image, cmap=\"gray\")\n",
    "print(\"Label for this image is: {}\".format(label))"
   ]
  },
  {
   "cell_type": "markdown",
   "id": "295a7b21",
   "metadata": {
    "papermill": {
     "duration": 0.050684,
     "end_time": "2022-11-28T20:42:46.052872",
     "exception": false,
     "start_time": "2022-11-28T20:42:46.002188",
     "status": "completed"
    },
    "tags": []
   },
   "source": [
    "### **Preparing data**"
   ]
  },
  {
   "cell_type": "markdown",
   "id": "0a32d9ba",
   "metadata": {
    "papermill": {
     "duration": 0.050105,
     "end_time": "2022-11-28T20:42:46.153179",
     "exception": false,
     "start_time": "2022-11-28T20:42:46.103074",
     "status": "completed"
    },
    "tags": []
   },
   "source": [
    "So, let begin modelling.\n",
    "Let's divide our dataset into batches of batch size of 100."
   ]
  },
  {
   "cell_type": "code",
   "execution_count": 7,
   "id": "6bbd745b",
   "metadata": {
    "execution": {
     "iopub.execute_input": "2022-11-28T20:42:46.256897Z",
     "iopub.status.busy": "2022-11-28T20:42:46.256116Z",
     "iopub.status.idle": "2022-11-28T20:42:46.258899Z",
     "shell.execute_reply": "2022-11-28T20:42:46.258401Z",
     "shell.execute_reply.started": "2022-11-28T20:25:35.991033Z"
    },
    "papermill": {
     "duration": 0.056806,
     "end_time": "2022-11-28T20:42:46.259046",
     "exception": false,
     "start_time": "2022-11-28T20:42:46.202240",
     "status": "completed"
    },
    "tags": []
   },
   "outputs": [],
   "source": [
    "# loading our MNIST train and test datasets in form of batches with batch_size=100(Simply dividing our data into 100 elements multi-arrays/Tensors).\n",
    "train_loader = torch.utils.data.DataLoader(mnist_train, batch_size=100, shuffle=True)\n",
    "test_loader = torch.utils.data.DataLoader(mnist_test, batch_size=100, shuffle=False)"
   ]
  },
  {
   "cell_type": "code",
   "execution_count": 8,
   "id": "f1c2411e",
   "metadata": {
    "execution": {
     "iopub.execute_input": "2022-11-28T20:42:46.360238Z",
     "iopub.status.busy": "2022-11-28T20:42:46.359616Z",
     "iopub.status.idle": "2022-11-28T20:42:46.396380Z",
     "shell.execute_reply": "2022-11-28T20:42:46.395800Z",
     "shell.execute_reply.started": "2022-11-28T20:25:36.000727Z"
    },
    "papermill": {
     "duration": 0.088233,
     "end_time": "2022-11-28T20:42:46.396553",
     "exception": false,
     "start_time": "2022-11-28T20:42:46.308320",
     "status": "completed"
    },
    "tags": []
   },
   "outputs": [],
   "source": [
    "# choosing one batch to test.\n",
    "data_train_loader = iter(train_loader)\n",
    "# extracting input and label of the batch of 100 images.\n",
    "images, labels = data_train_loader.next()"
   ]
  },
  {
   "cell_type": "code",
   "execution_count": 9,
   "id": "10042623",
   "metadata": {
    "execution": {
     "iopub.execute_input": "2022-11-28T20:42:46.503455Z",
     "iopub.status.busy": "2022-11-28T20:42:46.502773Z",
     "iopub.status.idle": "2022-11-28T20:42:46.506536Z",
     "shell.execute_reply": "2022-11-28T20:42:46.505850Z",
     "shell.execute_reply.started": "2022-11-28T20:25:36.050786Z"
    },
    "papermill": {
     "duration": 0.058101,
     "end_time": "2022-11-28T20:42:46.506687",
     "exception": false,
     "start_time": "2022-11-28T20:42:46.448586",
     "status": "completed"
    },
    "tags": []
   },
   "outputs": [
    {
     "name": "stdout",
     "output_type": "stream",
     "text": [
      "Shape of the minibatch of train loader's images: torch.Size([100, 1, 28, 28])\n",
      "Shape of the minibatch of train loader's labels: torch.Size([100])\n"
     ]
    }
   ],
   "source": [
    "print(\"Shape of the minibatch of train loader's images: {}\".format(images.shape))\n",
    "print(\"Shape of the minibatch of train loader's labels: {}\".format(labels.shape))"
   ]
  },
  {
   "cell_type": "markdown",
   "id": "6bbdb852",
   "metadata": {
    "papermill": {
     "duration": 0.050132,
     "end_time": "2022-11-28T20:42:46.606242",
     "exception": false,
     "start_time": "2022-11-28T20:42:46.556110",
     "status": "completed"
    },
    "tags": []
   },
   "source": [
    "Reshaping our matrix into 2-D with view in torch module which act just like reshape of numpy."
   ]
  },
  {
   "cell_type": "code",
   "execution_count": 10,
   "id": "09f8dfb2",
   "metadata": {
    "execution": {
     "iopub.execute_input": "2022-11-28T20:42:46.710934Z",
     "iopub.status.busy": "2022-11-28T20:42:46.710207Z",
     "iopub.status.idle": "2022-11-28T20:42:46.713684Z",
     "shell.execute_reply": "2022-11-28T20:42:46.714202Z",
     "shell.execute_reply.started": "2022-11-28T20:25:36.060273Z"
    },
    "papermill": {
     "duration": 0.058896,
     "end_time": "2022-11-28T20:42:46.714399",
     "exception": false,
     "start_time": "2022-11-28T20:42:46.655503",
     "status": "completed"
    },
    "tags": []
   },
   "outputs": [
    {
     "name": "stdout",
     "output_type": "stream",
     "text": [
      "The shape of input x: torch.Size([100, 784])\n"
     ]
    }
   ],
   "source": [
    "# reshaping our examples from 2-D to 1-D as we input single dimension array.\n",
    "x = images.view(-1, 28*28)\n",
    "print(\"The shape of input x: {}\".format(x.shape))"
   ]
  },
  {
   "cell_type": "markdown",
   "id": "b16280a4",
   "metadata": {
    "papermill": {
     "duration": 0.049644,
     "end_time": "2022-11-28T20:42:46.813520",
     "exception": false,
     "start_time": "2022-11-28T20:42:46.763876",
     "status": "completed"
    },
    "tags": []
   },
   "source": [
    "Creating parameters of logistic regression model: filter, bias(W, b)."
   ]
  },
  {
   "cell_type": "code",
   "execution_count": 11,
   "id": "f4de9d46",
   "metadata": {
    "execution": {
     "iopub.execute_input": "2022-11-28T20:42:46.917823Z",
     "iopub.status.busy": "2022-11-28T20:42:46.916913Z",
     "iopub.status.idle": "2022-11-28T20:42:46.923687Z",
     "shell.execute_reply": "2022-11-28T20:42:46.924296Z",
     "shell.execute_reply.started": "2022-11-28T20:25:36.073995Z"
    },
    "papermill": {
     "duration": 0.061567,
     "end_time": "2022-11-28T20:42:46.924481",
     "exception": false,
     "start_time": "2022-11-28T20:42:46.862914",
     "status": "completed"
    },
    "tags": []
   },
   "outputs": [],
   "source": [
    "#  creating our model parameters W, b randomly. 784 rows for 784 featuers/pixels of an example/image and 10 colums for 10 classes(0-9).\n",
    "W = torch.randn(784, 10)/np.sqrt(784)\n",
    "\n",
    "# Assigning/allowing gradients to these parameters as we will be using stochastic gradient descent on these parameters and will be needing gradient w.r.t these.\n",
    "W.requires_grad_()\n",
    "b = torch.zeros(10, requires_grad=True)"
   ]
  },
  {
   "cell_type": "markdown",
   "id": "f17b738a",
   "metadata": {
    "papermill": {
     "duration": 0.050888,
     "end_time": "2022-11-28T20:42:47.025831",
     "exception": false,
     "start_time": "2022-11-28T20:42:46.974943",
     "status": "completed"
    },
    "tags": []
   },
   "source": [
    "Check our input image examples with filter and find correlation betwwen them."
   ]
  },
  {
   "cell_type": "code",
   "execution_count": 12,
   "id": "f73a6e84",
   "metadata": {
    "execution": {
     "iopub.execute_input": "2022-11-28T20:42:47.127584Z",
     "iopub.status.busy": "2022-11-28T20:42:47.126896Z",
     "iopub.status.idle": "2022-11-28T20:42:47.178386Z",
     "shell.execute_reply": "2022-11-28T20:42:47.179014Z",
     "shell.execute_reply.started": "2022-11-28T20:25:36.090573Z"
    },
    "papermill": {
     "duration": 0.104027,
     "end_time": "2022-11-28T20:42:47.179222",
     "exception": false,
     "start_time": "2022-11-28T20:42:47.075195",
     "status": "completed"
    },
    "tags": []
   },
   "outputs": [],
   "source": [
    "# doing dot product of examples with filters to find amount of correlation between two and adding bias.\n",
    "y = torch.matmul(x, W) + b"
   ]
  },
  {
   "cell_type": "markdown",
   "id": "607bb924",
   "metadata": {
    "papermill": {
     "duration": 0.050549,
     "end_time": "2022-11-28T20:42:47.281074",
     "exception": false,
     "start_time": "2022-11-28T20:42:47.230525",
     "status": "completed"
    },
    "tags": []
   },
   "source": [
    "Checking values for first example of correlated matrix."
   ]
  },
  {
   "cell_type": "code",
   "execution_count": 13,
   "id": "913ae0e7",
   "metadata": {
    "execution": {
     "iopub.execute_input": "2022-11-28T20:42:47.385770Z",
     "iopub.status.busy": "2022-11-28T20:42:47.385082Z",
     "iopub.status.idle": "2022-11-28T20:42:47.414457Z",
     "shell.execute_reply": "2022-11-28T20:42:47.414991Z",
     "shell.execute_reply.started": "2022-11-28T20:25:36.149629Z"
    },
    "papermill": {
     "duration": 0.082681,
     "end_time": "2022-11-28T20:42:47.415175",
     "exception": false,
     "start_time": "2022-11-28T20:42:47.332494",
     "status": "completed"
    },
    "tags": []
   },
   "outputs": [
    {
     "name": "stdout",
     "output_type": "stream",
     "text": [
      "tensor([ 0.1590,  0.5939,  0.2961,  0.2233, -0.3239, -0.6588, -0.5705,  0.3268,\n",
      "        -0.1843,  0.6219], grad_fn=<SliceBackward>)\n"
     ]
    }
   ],
   "source": [
    "print(y[0,:])"
   ]
  },
  {
   "cell_type": "markdown",
   "id": "bbd9b66c",
   "metadata": {
    "papermill": {
     "duration": 0.050825,
     "end_time": "2022-11-28T20:42:47.516881",
     "exception": false,
     "start_time": "2022-11-28T20:42:47.466056",
     "status": "completed"
    },
    "tags": []
   },
   "source": [
    "We have both negative and positive values. Normalize it first with the help of exponents such that values of one example sums upto 1. "
   ]
  },
  {
   "cell_type": "code",
   "execution_count": 14,
   "id": "30a17cb0",
   "metadata": {
    "execution": {
     "iopub.execute_input": "2022-11-28T20:42:47.622868Z",
     "iopub.status.busy": "2022-11-28T20:42:47.622187Z",
     "iopub.status.idle": "2022-11-28T20:42:47.635209Z",
     "shell.execute_reply": "2022-11-28T20:42:47.635822Z",
     "shell.execute_reply.started": "2022-11-28T20:25:36.189011Z"
    },
    "papermill": {
     "duration": 0.068533,
     "end_time": "2022-11-28T20:42:47.636016",
     "exception": false,
     "start_time": "2022-11-28T20:42:47.567483",
     "status": "completed"
    },
    "tags": []
   },
   "outputs": [
    {
     "name": "stdout",
     "output_type": "stream",
     "text": [
      "py[0] from equation: tensor([0.1023, 0.1580, 0.1173, 0.1090, 0.0631, 0.0451, 0.0493, 0.1209, 0.0725,\n",
      "        0.1625], grad_fn=<SelectBackward>)\n"
     ]
    }
   ],
   "source": [
    "# Normalizing or making our correlated values positive by using exponents.\n",
    "py_eq = torch.exp(y)/torch.sum(torch.exp(y), dim=1, keepdim=True)\n",
    "print(\"py[0] from equation: {}\".format(py_eq[0]))"
   ]
  },
  {
   "cell_type": "markdown",
   "id": "92309957",
   "metadata": {
    "papermill": {
     "duration": 0.050317,
     "end_time": "2022-11-28T20:42:47.737460",
     "exception": false,
     "start_time": "2022-11-28T20:42:47.687143",
     "status": "completed"
    },
    "tags": []
   },
   "source": [
    "The same can be done with functions in torch.nn.functional. Softmax is used for normalizing values.\n",
    "\\begin{align}\n",
    "p(y_i) = \\text{softmax}(y_i) = \\frac{\\text{exp}(y_i)}{\\sum_j\\text{exp}(y_j)}\n",
    "\\end{align}"
   ]
  },
  {
   "cell_type": "code",
   "execution_count": 15,
   "id": "91d2ea67",
   "metadata": {
    "execution": {
     "iopub.execute_input": "2022-11-28T20:42:47.844491Z",
     "iopub.status.busy": "2022-11-28T20:42:47.843803Z",
     "iopub.status.idle": "2022-11-28T20:42:47.851773Z",
     "shell.execute_reply": "2022-11-28T20:42:47.852313Z",
     "shell.execute_reply.started": "2022-11-28T20:25:36.207987Z"
    },
    "papermill": {
     "duration": 0.064241,
     "end_time": "2022-11-28T20:42:47.852497",
     "exception": false,
     "start_time": "2022-11-28T20:42:47.788256",
     "status": "completed"
    },
    "tags": []
   },
   "outputs": [
    {
     "name": "stdout",
     "output_type": "stream",
     "text": [
      "py[0] with torch.nn.functional.softmax function: tensor([0.1023, 0.1580, 0.1173, 0.1090, 0.0631, 0.0451, 0.0493, 0.1209, 0.0725,\n",
      "        0.1625], grad_fn=<SelectBackward>)\n"
     ]
    }
   ],
   "source": [
    "# Rather then manually writing equation, we can use inbuilt function of torch.nn.functional .\n",
    "import torch.nn.functional as F\n",
    "\n",
    "# Using softmax function to normalize our wieghts or correlated values of examples.\n",
    "py = F.softmax(y, dim=1)\n",
    "print(\"py[0] with torch.nn.functional.softmax function: {}\".format(py[0]))"
   ]
  },
  {
   "cell_type": "markdown",
   "id": "b443293b",
   "metadata": {
    "papermill": {
     "duration": 0.05002,
     "end_time": "2022-11-28T20:42:47.953010",
     "exception": false,
     "start_time": "2022-11-28T20:42:47.902990",
     "status": "completed"
    },
    "tags": []
   },
   "source": [
    "### **Optimizing Parameters**"
   ]
  },
  {
   "cell_type": "markdown",
   "id": "2a3d76d8",
   "metadata": {
    "papermill": {
     "duration": 0.050235,
     "end_time": "2022-11-28T20:42:48.054111",
     "exception": false,
     "start_time": "2022-11-28T20:42:48.003876",
     "status": "completed"
    },
    "tags": []
   },
   "source": [
    "we can optimize paramters with the help of loss function.\n",
    "\\begin{align}\n",
    "H_{y'}(y)=-\\sum_i y'_i \\text{log}(y_i)\n",
    "\\end{align}"
   ]
  },
  {
   "cell_type": "code",
   "execution_count": 16,
   "id": "47dce0c8",
   "metadata": {
    "execution": {
     "iopub.execute_input": "2022-11-28T20:42:48.160211Z",
     "iopub.status.busy": "2022-11-28T20:42:48.159549Z",
     "iopub.status.idle": "2022-11-28T20:42:48.168863Z",
     "shell.execute_reply": "2022-11-28T20:42:48.169515Z",
     "shell.execute_reply.started": "2022-11-28T20:25:36.221812Z"
    },
    "papermill": {
     "duration": 0.065576,
     "end_time": "2022-11-28T20:42:48.169707",
     "exception": false,
     "start_time": "2022-11-28T20:42:48.104131",
     "status": "completed"
    },
    "tags": []
   },
   "outputs": [
    {
     "name": "stdout",
     "output_type": "stream",
     "text": [
      "cross entropy from equation: 2.3201467990875244\n"
     ]
    }
   ],
   "source": [
    "# calculating loss function for optimizing manually by writing loss function i.e. adding our predicted value(correlated values of true labels).\n",
    "cross_entropy_eq = torch.mean(-torch.log(py_eq)[range(labels.shape[0]),labels])\n",
    "print(\"cross entropy from equation: {}\".format(cross_entropy_eq))"
   ]
  },
  {
   "cell_type": "code",
   "execution_count": 17,
   "id": "09cf6e2b",
   "metadata": {
    "execution": {
     "iopub.execute_input": "2022-11-28T20:42:48.278257Z",
     "iopub.status.busy": "2022-11-28T20:42:48.277490Z",
     "iopub.status.idle": "2022-11-28T20:42:48.290532Z",
     "shell.execute_reply": "2022-11-28T20:42:48.291036Z",
     "shell.execute_reply.started": "2022-11-28T20:25:36.234200Z"
    },
    "papermill": {
     "duration": 0.07047,
     "end_time": "2022-11-28T20:42:48.291226",
     "exception": false,
     "start_time": "2022-11-28T20:42:48.220756",
     "status": "completed"
    },
    "tags": []
   },
   "outputs": [
    {
     "name": "stdout",
     "output_type": "stream",
     "text": [
      "cross entropy from torch.nn.functional.cross_entropy function: 2.3201467990875244\n"
     ]
    }
   ],
   "source": [
    "# Using inbuilt function of torch to calculate cross entropy.\n",
    "cross_entropy = F.cross_entropy(y, labels)\n",
    "print(\"cross entropy from torch.nn.functional.cross_entropy function: {}\".format(cross_entropy))"
   ]
  },
  {
   "cell_type": "code",
   "execution_count": 18,
   "id": "58e0e156",
   "metadata": {
    "execution": {
     "iopub.execute_input": "2022-11-28T20:42:48.400814Z",
     "iopub.status.busy": "2022-11-28T20:42:48.400128Z",
     "iopub.status.idle": "2022-11-28T20:42:48.410807Z",
     "shell.execute_reply": "2022-11-28T20:42:48.411386Z",
     "shell.execute_reply.started": "2022-11-28T20:25:36.251616Z"
    },
    "papermill": {
     "duration": 0.068785,
     "end_time": "2022-11-28T20:42:48.411586",
     "exception": false,
     "start_time": "2022-11-28T20:42:48.342801",
     "status": "completed"
    },
    "tags": []
   },
   "outputs": [],
   "source": [
    "# optimizing paramteres with step size 0.1 and Stochastic Gradient Descent.\n",
    "optimizer = torch.optim.SGD([W,b], lr=0.1)\n",
    "\n",
    "# calculating gradients of allowed parameters w.r.t optimizing condition i.e. loss function.\n",
    "cross_entropy.backward()"
   ]
  },
  {
   "cell_type": "code",
   "execution_count": 19,
   "id": "f9b6d976",
   "metadata": {
    "execution": {
     "iopub.execute_input": "2022-11-28T20:42:48.516997Z",
     "iopub.status.busy": "2022-11-28T20:42:48.516349Z",
     "iopub.status.idle": "2022-11-28T20:42:48.523032Z",
     "shell.execute_reply": "2022-11-28T20:42:48.523630Z",
     "shell.execute_reply.started": "2022-11-28T20:25:36.270933Z"
    },
    "papermill": {
     "duration": 0.061012,
     "end_time": "2022-11-28T20:42:48.523809",
     "exception": false,
     "start_time": "2022-11-28T20:42:48.462797",
     "status": "completed"
    },
    "tags": []
   },
   "outputs": [
    {
     "data": {
      "text/plain": [
       "tensor([ 0.0036,  0.0157,  0.0121,  0.0614, -0.0374,  0.0016, -0.0079, -0.0652,\n",
       "        -0.0515,  0.0677])"
      ]
     },
     "execution_count": 19,
     "metadata": {},
     "output_type": "execute_result"
    }
   ],
   "source": [
    "# gradient before optimizing.\n",
    "b.grad"
   ]
  },
  {
   "cell_type": "code",
   "execution_count": 20,
   "id": "62340b34",
   "metadata": {
    "execution": {
     "iopub.execute_input": "2022-11-28T20:42:48.632538Z",
     "iopub.status.busy": "2022-11-28T20:42:48.631854Z",
     "iopub.status.idle": "2022-11-28T20:42:48.638014Z",
     "shell.execute_reply": "2022-11-28T20:42:48.638591Z",
     "shell.execute_reply.started": "2022-11-28T20:25:36.281208Z"
    },
    "papermill": {
     "duration": 0.062357,
     "end_time": "2022-11-28T20:42:48.638780",
     "exception": false,
     "start_time": "2022-11-28T20:42:48.576423",
     "status": "completed"
    },
    "tags": []
   },
   "outputs": [
    {
     "name": "stdout",
     "output_type": "stream",
     "text": [
      "tensor([-0.0004, -0.0016, -0.0012, -0.0061,  0.0037, -0.0002,  0.0008,  0.0065,\n",
      "         0.0052, -0.0068], requires_grad=True)\n"
     ]
    }
   ],
   "source": [
    "# optimzing with step size 0.1\n",
    "optimizer.step()\n",
    "\n",
    "# gradient w.r.t b after optimizing\n",
    "print(b)"
   ]
  },
  {
   "cell_type": "markdown",
   "id": "2564e4de",
   "metadata": {
    "papermill": {
     "duration": 0.051391,
     "end_time": "2022-11-28T20:42:48.741718",
     "exception": false,
     "start_time": "2022-11-28T20:42:48.690327",
     "status": "completed"
    },
    "tags": []
   },
   "source": [
    "Perform the same thing for all batches. Gradients don't update ut accumulate with every optimization step. Zero out gradients before next optimization step."
   ]
  },
  {
   "cell_type": "code",
   "execution_count": 21,
   "id": "6ab60fd5",
   "metadata": {
    "execution": {
     "iopub.execute_input": "2022-11-28T20:42:48.847644Z",
     "iopub.status.busy": "2022-11-28T20:42:48.846954Z",
     "iopub.status.idle": "2022-11-28T20:42:48.853018Z",
     "shell.execute_reply": "2022-11-28T20:42:48.853508Z",
     "shell.execute_reply.started": "2022-11-28T20:25:36.292602Z"
    },
    "papermill": {
     "duration": 0.060567,
     "end_time": "2022-11-28T20:42:48.853693",
     "exception": false,
     "start_time": "2022-11-28T20:42:48.793126",
     "status": "completed"
    },
    "tags": []
   },
   "outputs": [
    {
     "name": "stdout",
     "output_type": "stream",
     "text": [
      "b.grad before zero_grad:tensor([ 0.0036,  0.0157,  0.0121,  0.0614, -0.0374,  0.0016, -0.0079, -0.0652,\n",
      "        -0.0515,  0.0677])\n"
     ]
    }
   ],
   "source": [
    "print(\"b.grad before zero_grad:{}\".format(b.grad))"
   ]
  },
  {
   "cell_type": "code",
   "execution_count": 22,
   "id": "6565262e",
   "metadata": {
    "execution": {
     "iopub.execute_input": "2022-11-28T20:42:48.963291Z",
     "iopub.status.busy": "2022-11-28T20:42:48.962569Z",
     "iopub.status.idle": "2022-11-28T20:42:48.967648Z",
     "shell.execute_reply": "2022-11-28T20:42:48.967081Z",
     "shell.execute_reply.started": "2022-11-28T20:25:36.306939Z"
    },
    "papermill": {
     "duration": 0.061293,
     "end_time": "2022-11-28T20:42:48.967797",
     "exception": false,
     "start_time": "2022-11-28T20:42:48.906504",
     "status": "completed"
    },
    "tags": []
   },
   "outputs": [
    {
     "name": "stdout",
     "output_type": "stream",
     "text": [
      "b.grad after zero_grad:tensor([0., 0., 0., 0., 0., 0., 0., 0., 0., 0.])\n"
     ]
    }
   ],
   "source": [
    "# Gradients doesn't update but accumulate with every optimizing step. So, have to zero out before updating gradients.\n",
    "optimizer.zero_grad()\n",
    "print(\"b.grad after zero_grad:{}\".format(b.grad))"
   ]
  },
  {
   "cell_type": "code",
   "execution_count": 23,
   "id": "c70d72dd",
   "metadata": {
    "execution": {
     "iopub.execute_input": "2022-11-28T20:42:49.077691Z",
     "iopub.status.busy": "2022-11-28T20:42:49.076983Z",
     "iopub.status.idle": "2022-11-28T20:42:49.083435Z",
     "shell.execute_reply": "2022-11-28T20:42:49.084181Z",
     "shell.execute_reply.started": "2022-11-28T20:25:36.321230Z"
    },
    "papermill": {
     "duration": 0.064112,
     "end_time": "2022-11-28T20:42:49.084436",
     "exception": false,
     "start_time": "2022-11-28T20:42:49.020324",
     "status": "completed"
    },
    "tags": []
   },
   "outputs": [
    {
     "name": "stdout",
     "output_type": "stream",
     "text": [
      "tensor([[ 0.0057, -0.0263, -0.0168,  ..., -0.0116,  0.0285, -0.0043],\n",
      "        [ 0.0037,  0.0154,  0.0040,  ...,  0.0483,  0.0025, -0.0165],\n",
      "        [ 0.0369,  0.0079,  0.0185,  ..., -0.0312,  0.0151,  0.0270],\n",
      "        ...,\n",
      "        [-0.0141, -0.0095, -0.0062,  ..., -0.0404, -0.0049, -0.0552],\n",
      "        [ 0.0551, -0.0303,  0.0276,  ...,  0.0277,  0.0150,  0.0091],\n",
      "        [ 0.0435, -0.0116, -0.0074,  ..., -0.0461,  0.0102, -0.0103]],\n",
      "       requires_grad=True)\n"
     ]
    }
   ],
   "source": [
    "# Filter matrix\n",
    "print(W)"
   ]
  },
  {
   "cell_type": "markdown",
   "id": "508fbaa6",
   "metadata": {
    "papermill": {
     "duration": 0.052709,
     "end_time": "2022-11-28T20:42:49.191131",
     "exception": false,
     "start_time": "2022-11-28T20:42:49.138422",
     "status": "completed"
    },
    "tags": []
   },
   "source": [
    "Performing optimization for all batches"
   ]
  },
  {
   "cell_type": "code",
   "execution_count": 24,
   "id": "232c366a",
   "metadata": {
    "execution": {
     "iopub.execute_input": "2022-11-28T20:42:49.307526Z",
     "iopub.status.busy": "2022-11-28T20:42:49.306813Z",
     "iopub.status.idle": "2022-11-28T20:42:54.920236Z",
     "shell.execute_reply": "2022-11-28T20:42:54.919679Z",
     "shell.execute_reply.started": "2022-11-28T20:25:36.332582Z"
    },
    "papermill": {
     "duration": 5.672231,
     "end_time": "2022-11-28T20:42:54.920421",
     "exception": false,
     "start_time": "2022-11-28T20:42:49.248190",
     "status": "completed"
    },
    "tags": []
   },
   "outputs": [
    {
     "data": {
      "application/vnd.jupyter.widget-view+json": {
       "model_id": "e07535bf68084dadb71a095628c33321",
       "version_major": 2,
       "version_minor": 0
      },
      "text/plain": [
       "  0%|          | 0/600 [00:00<?, ?it/s]"
      ]
     },
     "metadata": {},
     "output_type": "display_data"
    }
   ],
   "source": [
    "# Doing the same thing for all test batches.\n",
    "for images, labels in tqdm(train_loader):\n",
    "    # zero out the gradients.\n",
    "    optimizer.zero_grad()\n",
    "\n",
    "    # preapring data.\n",
    "    x = images.view(-1, 28*28)\n",
    "    y = torch.matmul(x, W) + b\n",
    "    \n",
    "    cross_entropy = F.cross_entropy(y, labels)\n",
    "    cross_entropy.backward()\n",
    "    optimizer.step()"
   ]
  },
  {
   "cell_type": "code",
   "execution_count": 25,
   "id": "fd7377be",
   "metadata": {
    "execution": {
     "iopub.execute_input": "2022-11-28T20:42:55.031418Z",
     "iopub.status.busy": "2022-11-28T20:42:55.030751Z",
     "iopub.status.idle": "2022-11-28T20:42:55.038848Z",
     "shell.execute_reply": "2022-11-28T20:42:55.038187Z",
     "shell.execute_reply.started": "2022-11-28T20:25:42.385934Z"
    },
    "papermill": {
     "duration": 0.064102,
     "end_time": "2022-11-28T20:42:55.039004",
     "exception": false,
     "start_time": "2022-11-28T20:42:54.974902",
     "status": "completed"
    },
    "tags": []
   },
   "outputs": [
    {
     "name": "stdout",
     "output_type": "stream",
     "text": [
      "Filter:tensor([[ 0.0057, -0.0263, -0.0168,  ..., -0.0116,  0.0285, -0.0043],\n",
      "        [ 0.0037,  0.0154,  0.0040,  ...,  0.0483,  0.0025, -0.0165],\n",
      "        [ 0.0369,  0.0079,  0.0185,  ..., -0.0312,  0.0151,  0.0270],\n",
      "        ...,\n",
      "        [-0.0141, -0.0095, -0.0062,  ..., -0.0404, -0.0049, -0.0552],\n",
      "        [ 0.0551, -0.0303,  0.0276,  ...,  0.0277,  0.0150,  0.0091],\n",
      "        [ 0.0435, -0.0116, -0.0074,  ..., -0.0461,  0.0102, -0.0103]],\n",
      "       requires_grad=True)\n",
      "Bias:tensor([-0.1135,  0.2025, -0.0317, -0.0963,  0.0622,  0.2932, -0.0185,  0.1668,\n",
      "        -0.4089, -0.0556], requires_grad=True)\n"
     ]
    }
   ],
   "source": [
    "#  Models's learned parameters\n",
    "print(\"Filter:{}\".format(W))\n",
    "print(\"Bias:{}\".format(b))"
   ]
  },
  {
   "cell_type": "markdown",
   "id": "fb14f2f9",
   "metadata": {
    "papermill": {
     "duration": 0.0529,
     "end_time": "2022-11-28T20:42:55.145339",
     "exception": false,
     "start_time": "2022-11-28T20:42:55.092439",
     "status": "completed"
    },
    "tags": []
   },
   "source": [
    "Torch.nn module already has all the function that we need for logistic function. We can train our data with the help of those functions too."
   ]
  },
  {
   "cell_type": "code",
   "execution_count": 26,
   "id": "2b63f467",
   "metadata": {
    "execution": {
     "iopub.execute_input": "2022-11-28T20:42:55.260439Z",
     "iopub.status.busy": "2022-11-28T20:42:55.259768Z",
     "iopub.status.idle": "2022-11-28T20:43:00.694543Z",
     "shell.execute_reply": "2022-11-28T20:43:00.694020Z",
     "shell.execute_reply.started": "2022-11-28T20:25:42.397238Z"
    },
    "papermill": {
     "duration": 5.494862,
     "end_time": "2022-11-28T20:43:00.694693",
     "exception": false,
     "start_time": "2022-11-28T20:42:55.199831",
     "status": "completed"
    },
    "tags": []
   },
   "outputs": [
    {
     "data": {
      "application/vnd.jupyter.widget-view+json": {
       "model_id": "7386a5bd3eb34a0a9da7597b8d68a687",
       "version_major": 2,
       "version_minor": 0
      },
      "text/plain": [
       "  0%|          | 0/600 [00:00<?, ?it/s]"
      ]
     },
     "metadata": {},
     "output_type": "display_data"
    },
    {
     "name": "stdout",
     "output_type": "stream",
     "text": [
      "Filter: Parameter containing:\n",
      "tensor([[-0.0292, -0.0315,  0.0184,  ..., -0.0033, -0.0127, -0.0071],\n",
      "        [ 0.0100,  0.0336, -0.0309,  ..., -0.0047,  0.0224, -0.0337],\n",
      "        [-0.0316,  0.0003,  0.0309,  ...,  0.0064, -0.0287, -0.0271],\n",
      "        ...,\n",
      "        [-0.0257,  0.0200,  0.0081,  ..., -0.0112,  0.0345,  0.0081],\n",
      "        [ 0.0123,  0.0166,  0.0166,  ...,  0.0221, -0.0277,  0.0227],\n",
      "        [-0.0014,  0.0120, -0.0350,  ..., -0.0235, -0.0086, -0.0026]],\n",
      "       requires_grad=True)\n",
      "Bias: Parameter containing:\n",
      "tensor([-0.1012,  0.1835, -0.0398, -0.1028,  0.0347,  0.3104, -0.0036,  0.1952,\n",
      "        -0.4162, -0.0663], requires_grad=True)\n"
     ]
    }
   ],
   "source": [
    "lin = torch.nn.Linear(784, 10)\n",
    "optimizer = torch.optim.SGD(lin.parameters(), lr=0.1)\n",
    "for images, labels in tqdm(train_loader):\n",
    "    y = lin(images.view(-1, 784))\n",
    "    optimizer.zero_grad()\n",
    "    cross_entropy = F.cross_entropy(y, labels)\n",
    "    cross_entropy.backward()\n",
    "    optimizer.step()\n",
    "print(\"Filter: {}\".format(list(lin.parameters())[0]))\n",
    "print(\"Bias: {}\".format(list(lin.parameters())[1]))"
   ]
  },
  {
   "cell_type": "markdown",
   "id": "33645fa4",
   "metadata": {
    "papermill": {
     "duration": 0.054306,
     "end_time": "2022-11-28T20:43:00.803501",
     "exception": false,
     "start_time": "2022-11-28T20:43:00.749195",
     "status": "completed"
    },
    "tags": []
   },
   "source": [
    "Note, Both have different learned parameters. That's because initially we randomly created model's filters. It will produce different results every time we run our model."
   ]
  },
  {
   "cell_type": "markdown",
   "id": "1e9fe72e",
   "metadata": {
    "papermill": {
     "duration": 0.05384,
     "end_time": "2022-11-28T20:43:00.911532",
     "exception": false,
     "start_time": "2022-11-28T20:43:00.857692",
     "status": "completed"
    },
    "tags": []
   },
   "source": [
    "**TESTING PERFORMANCE**"
   ]
  },
  {
   "cell_type": "markdown",
   "id": "e72ffcf7",
   "metadata": {
    "papermill": {
     "duration": 0.055144,
     "end_time": "2022-11-28T20:43:01.021929",
     "exception": false,
     "start_time": "2022-11-28T20:43:00.966785",
     "status": "completed"
    },
    "tags": []
   },
   "source": [
    "Test our model with test set. "
   ]
  },
  {
   "cell_type": "code",
   "execution_count": 27,
   "id": "49f7bc1e",
   "metadata": {
    "execution": {
     "iopub.execute_input": "2022-11-28T20:43:01.134927Z",
     "iopub.status.busy": "2022-11-28T20:43:01.134263Z",
     "iopub.status.idle": "2022-11-28T20:43:01.136108Z",
     "shell.execute_reply": "2022-11-28T20:43:01.136670Z",
     "shell.execute_reply.started": "2022-11-28T20:25:48.402813Z"
    },
    "papermill": {
     "duration": 0.0606,
     "end_time": "2022-11-28T20:43:01.136842",
     "exception": false,
     "start_time": "2022-11-28T20:43:01.076242",
     "status": "completed"
    },
    "tags": []
   },
   "outputs": [],
   "source": [
    "# No. of correct values assigned to 0.\n",
    "correct = 0\n",
    "total = len(mnist_test)"
   ]
  },
  {
   "cell_type": "code",
   "execution_count": 28,
   "id": "7f1f27c5",
   "metadata": {
    "execution": {
     "iopub.execute_input": "2022-11-28T20:43:01.249746Z",
     "iopub.status.busy": "2022-11-28T20:43:01.249087Z",
     "iopub.status.idle": "2022-11-28T20:43:02.118380Z",
     "shell.execute_reply": "2022-11-28T20:43:02.117813Z",
     "shell.execute_reply.started": "2022-11-28T20:25:48.410610Z"
    },
    "papermill": {
     "duration": 0.925765,
     "end_time": "2022-11-28T20:43:02.118538",
     "exception": false,
     "start_time": "2022-11-28T20:43:01.192773",
     "status": "completed"
    },
    "tags": []
   },
   "outputs": [
    {
     "data": {
      "application/vnd.jupyter.widget-view+json": {
       "model_id": "b44c327e7b2948238eaa08eab1a4d84f",
       "version_major": 2,
       "version_minor": 0
      },
      "text/plain": [
       "  0%|          | 0/100 [00:00<?, ?it/s]"
      ]
     },
     "metadata": {},
     "output_type": "display_data"
    }
   ],
   "source": [
    "# Don't have to calculate gradient now. just have to check correct predictions. But as parameters were created with allowd gradient calculation have to cancel that.\n",
    "with torch.no_grad():\n",
    "    # iterating on test batches.\n",
    "    for images, labels in tqdm(test_loader):\n",
    "        # preparing data and calcuting correlated values.\n",
    "        x = images.view(-1, 784)\n",
    "        y = torch.matmul(x, W) + b\n",
    "\n",
    "        # Our model prediction is the max correlated value of the given ten classes values.\n",
    "        predictions = torch.argmax(y, dim =1)\n",
    "\n",
    "        # Checking correct values.\n",
    "        correct += torch.sum((predictions == labels).float())"
   ]
  },
  {
   "cell_type": "markdown",
   "id": "72a7975a",
   "metadata": {
    "papermill": {
     "duration": 0.054595,
     "end_time": "2022-11-28T20:43:02.228680",
     "exception": false,
     "start_time": "2022-11-28T20:43:02.174085",
     "status": "completed"
    },
    "tags": []
   },
   "source": [
    "Accuracy: correcttly predicted values/ total values"
   ]
  },
  {
   "cell_type": "code",
   "execution_count": 29,
   "id": "38c98762",
   "metadata": {
    "execution": {
     "iopub.execute_input": "2022-11-28T20:43:02.344527Z",
     "iopub.status.busy": "2022-11-28T20:43:02.343802Z",
     "iopub.status.idle": "2022-11-28T20:43:02.347459Z",
     "shell.execute_reply": "2022-11-28T20:43:02.346710Z",
     "shell.execute_reply.started": "2022-11-28T20:25:49.406061Z"
    },
    "papermill": {
     "duration": 0.063846,
     "end_time": "2022-11-28T20:43:02.347661",
     "exception": false,
     "start_time": "2022-11-28T20:43:02.283815",
     "status": "completed"
    },
    "tags": []
   },
   "outputs": [
    {
     "name": "stdout",
     "output_type": "stream",
     "text": [
      "Test Accuracy: 0.902999997138977\n",
      "Test correct: 9030.0 of 10000\n"
     ]
    }
   ],
   "source": [
    "#  Test Accuracy\n",
    "print('Test Accuracy: {}'.format(correct/total))\n",
    "print('Test correct: {} of {}'.format(correct, total))"
   ]
  },
  {
   "cell_type": "markdown",
   "id": "a0604852",
   "metadata": {
    "papermill": {
     "duration": 0.055232,
     "end_time": "2022-11-28T20:43:02.459888",
     "exception": false,
     "start_time": "2022-11-28T20:43:02.404656",
     "status": "completed"
    },
    "tags": []
   },
   "source": [
    "Check our filters by plotting them on graphs"
   ]
  },
  {
   "cell_type": "code",
   "execution_count": 30,
   "id": "9b678065",
   "metadata": {
    "execution": {
     "iopub.execute_input": "2022-11-28T20:43:02.574158Z",
     "iopub.status.busy": "2022-11-28T20:43:02.573500Z",
     "iopub.status.idle": "2022-11-28T20:43:03.601735Z",
     "shell.execute_reply": "2022-11-28T20:43:03.600817Z",
     "shell.execute_reply.started": "2022-11-28T20:25:49.416754Z"
    },
    "papermill": {
     "duration": 1.086142,
     "end_time": "2022-11-28T20:43:03.601934",
     "exception": false,
     "start_time": "2022-11-28T20:43:02.515792",
     "status": "completed"
    },
    "tags": []
   },
   "outputs": [
    {
     "data": {
      "image/png": "[encoded data removed]",
      "text/plain": [
       "<Figure size 1440x144 with 10 Axes>"
      ]
     },
     "metadata": {
      "needs_background": "light"
     },
     "output_type": "display_data"
    }
   ],
   "source": [
    "# Plotting learned filters.\n",
    "fig, ax = plt.subplots(1, 10, figsize=(20,2))\n",
    "for digit in range(10):\n",
    "    ax[digit].imshow(W[:,digit].detach().view(28,28), cmap='gray')"
   ]
  },
  {
   "cell_type": "markdown",
   "id": "cf8d7610",
   "metadata": {
    "papermill": {
     "duration": 0.05627,
     "end_time": "2022-11-28T20:43:03.715369",
     "exception": false,
     "start_time": "2022-11-28T20:43:03.659099",
     "status": "completed"
    },
    "tags": []
   },
   "source": [
    "I have modeled a simple multi-class logistic regression model, which is a one-layer neural network, projecting straight from input to output predictions. \n",
    "\n",
    "Now, I will transform it into a multi-layer perceptron, having multiple successive fully-connected layers with object oriented higher level APIs. For this case, I will just add one hidden layer. So, it will be a 2-layer MLP for MNIST digit Classification."
   ]
  },
  {
   "cell_type": "markdown",
   "id": "4d3daabc",
   "metadata": {
    "papermill": {
     "duration": 0.05619,
     "end_time": "2022-11-28T20:43:03.828180",
     "exception": false,
     "start_time": "2022-11-28T20:43:03.771990",
     "status": "completed"
    },
    "tags": []
   },
   "source": [
    "# **2-Multi-Layer Perceptron for MNIST digit classification**"
   ]
  },
  {
   "cell_type": "markdown",
   "id": "fdb60115",
   "metadata": {
    "papermill": {
     "duration": 0.056174,
     "end_time": "2022-11-28T20:43:03.940903",
     "exception": false,
     "start_time": "2022-11-28T20:43:03.884729",
     "status": "completed"
    },
    "tags": []
   },
   "source": [
    "Importing functional from torch.nn for using functions insted of equations.\n"
   ]
  },
  {
   "cell_type": "code",
   "execution_count": 31,
   "id": "97fa44e7",
   "metadata": {
    "execution": {
     "iopub.execute_input": "2022-11-28T20:43:04.057702Z",
     "iopub.status.busy": "2022-11-28T20:43:04.056754Z",
     "iopub.status.idle": "2022-11-28T20:43:04.060627Z",
     "shell.execute_reply": "2022-11-28T20:43:04.061150Z",
     "shell.execute_reply.started": "2022-11-28T20:25:50.652096Z"
    },
    "papermill": {
     "duration": 0.064173,
     "end_time": "2022-11-28T20:43:04.061337",
     "exception": false,
     "start_time": "2022-11-28T20:43:03.997164",
     "status": "completed"
    },
    "tags": []
   },
   "outputs": [],
   "source": [
    "import torch.nn as nn\n",
    "import torch.nn.functional as F\n"
   ]
  },
  {
   "cell_type": "markdown",
   "id": "c226a73e",
   "metadata": {
    "papermill": {
     "duration": 0.056068,
     "end_time": "2022-11-28T20:43:04.175005",
     "exception": false,
     "start_time": "2022-11-28T20:43:04.118937",
     "status": "completed"
    },
    "tags": []
   },
   "source": [
    "Making a class for our logistic regression model so that we won't have to write it multiple times."
   ]
  },
  {
   "cell_type": "code",
   "execution_count": 32,
   "id": "48b155cb",
   "metadata": {
    "execution": {
     "iopub.execute_input": "2022-11-28T20:43:04.291289Z",
     "iopub.status.busy": "2022-11-28T20:43:04.290329Z",
     "iopub.status.idle": "2022-11-28T20:43:04.295575Z",
     "shell.execute_reply": "2022-11-28T20:43:04.296029Z",
     "shell.execute_reply.started": "2022-11-28T20:25:50.660544Z"
    },
    "papermill": {
     "duration": 0.065216,
     "end_time": "2022-11-28T20:43:04.296206",
     "exception": false,
     "start_time": "2022-11-28T20:43:04.230990",
     "status": "completed"
    },
    "tags": []
   },
   "outputs": [],
   "source": [
    "class MNIST_Logistic_Regression(nn.Module):\n",
    "    def __init__(self):\n",
    "        super().__init__()\n",
    "        self.lin = nn.Linear(784,10)\n",
    "    def forward(self,x):\n",
    "        return self.lin(x)"
   ]
  },
  {
   "cell_type": "markdown",
   "id": "82b72c9f",
   "metadata": {
    "papermill": {
     "duration": 0.071865,
     "end_time": "2022-11-28T20:43:04.439522",
     "exception": false,
     "start_time": "2022-11-28T20:43:04.367657",
     "status": "completed"
    },
    "tags": []
   },
   "source": [
    "Choosing the size of hidden layer"
   ]
  },
  {
   "cell_type": "code",
   "execution_count": 33,
   "id": "3ba7feab",
   "metadata": {
    "execution": {
     "iopub.execute_input": "2022-11-28T20:43:04.559887Z",
     "iopub.status.busy": "2022-11-28T20:43:04.558840Z",
     "iopub.status.idle": "2022-11-28T20:43:04.562920Z",
     "shell.execute_reply": "2022-11-28T20:43:04.563425Z",
     "shell.execute_reply.started": "2022-11-28T20:25:50.672849Z"
    },
    "papermill": {
     "duration": 0.067498,
     "end_time": "2022-11-28T20:43:04.563648",
     "exception": false,
     "start_time": "2022-11-28T20:43:04.496150",
     "status": "completed"
    },
    "tags": []
   },
   "outputs": [],
   "source": [
    "#size of hidden layer \n",
    "shiddenlayer = 100"
   ]
  },
  {
   "cell_type": "markdown",
   "id": "90f49a47",
   "metadata": {
    "papermill": {
     "duration": 0.056331,
     "end_time": "2022-11-28T20:43:04.677676",
     "exception": false,
     "start_time": "2022-11-28T20:43:04.621345",
     "status": "completed"
    },
    "tags": []
   },
   "source": [
    "Downloading data for our model"
   ]
  },
  {
   "cell_type": "code",
   "execution_count": 34,
   "id": "c7f1d3ba",
   "metadata": {
    "execution": {
     "iopub.execute_input": "2022-11-28T20:43:04.794556Z",
     "iopub.status.busy": "2022-11-28T20:43:04.793536Z",
     "iopub.status.idle": "2022-11-28T20:43:04.842157Z",
     "shell.execute_reply": "2022-11-28T20:43:04.841586Z",
     "shell.execute_reply.started": "2022-11-28T20:25:50.684113Z"
    },
    "papermill": {
     "duration": 0.107928,
     "end_time": "2022-11-28T20:43:04.842339",
     "exception": false,
     "start_time": "2022-11-28T20:43:04.734411",
     "status": "completed"
    },
    "tags": []
   },
   "outputs": [],
   "source": [
    "mnist_train = datasets.MNIST(root=\"./datasets\", train=True, transform=transforms.ToTensor(), download=True)\n",
    "mnist_test = datasets.MNIST(root=\"./datasets\", train=False, transform=transforms.ToTensor(), download=True)\n",
    "\n",
    "train_loader = torch.utils.data.DataLoader(mnist_train, batch_size=100, shuffle=True)\n",
    "test_loader = torch.utils.data.DataLoader(mnist_test, batch_size=100, shuffle=False)\n"
   ]
  },
  {
   "cell_type": "markdown",
   "id": "f5075269",
   "metadata": {
    "papermill": {
     "duration": 0.056187,
     "end_time": "2022-11-28T20:43:04.956037",
     "exception": false,
     "start_time": "2022-11-28T20:43:04.899850",
     "status": "completed"
    },
    "tags": []
   },
   "source": [
    "Storing all of the models and paramteres in one list, which will make it easier to pass in the SGD function."
   ]
  },
  {
   "cell_type": "code",
   "execution_count": 35,
   "id": "7a71474a",
   "metadata": {
    "execution": {
     "iopub.execute_input": "2022-11-28T20:43:05.074518Z",
     "iopub.status.busy": "2022-11-28T20:43:05.073819Z",
     "iopub.status.idle": "2022-11-28T20:43:05.101179Z",
     "shell.execute_reply": "2022-11-28T20:43:05.100505Z",
     "shell.execute_reply.started": "2022-11-28T20:25:50.758153Z"
    },
    "papermill": {
     "duration": 0.088772,
     "end_time": "2022-11-28T20:43:05.101347",
     "exception": false,
     "start_time": "2022-11-28T20:43:05.012575",
     "status": "completed"
    },
    "tags": []
   },
   "outputs": [],
   "source": [
    "models = []\n",
    "parameters = []\n",
    "for i in range(shiddenlayer):\n",
    "    models.append(MNIST_Logistic_Regression())\n",
    "    parameters.append(list(models[i].parameters())[0])\n",
    "    parameters.append(list(models[i].parameters())[1])\n"
   ]
  },
  {
   "cell_type": "markdown",
   "id": "2ceeaad8",
   "metadata": {
    "papermill": {
     "duration": 0.055766,
     "end_time": "2022-11-28T20:43:05.213297",
     "exception": false,
     "start_time": "2022-11-28T20:43:05.157531",
     "status": "completed"
    },
    "tags": []
   },
   "source": [
    "Writing out the loss function and training our dataset on the multiple batches with intermediate layer having non-linear relationship because of ReLU."
   ]
  },
  {
   "cell_type": "code",
   "execution_count": 36,
   "id": "3c01276c",
   "metadata": {
    "execution": {
     "iopub.execute_input": "2022-11-28T20:43:05.359752Z",
     "iopub.status.busy": "2022-11-28T20:43:05.335525Z",
     "iopub.status.idle": "2022-11-28T20:43:38.921848Z",
     "shell.execute_reply": "2022-11-28T20:43:38.921223Z",
     "shell.execute_reply.started": "2022-11-28T20:28:26.861661Z"
    },
    "papermill": {
     "duration": 33.652579,
     "end_time": "2022-11-28T20:43:38.922022",
     "exception": false,
     "start_time": "2022-11-28T20:43:05.269443",
     "status": "completed"
    },
    "tags": []
   },
   "outputs": [
    {
     "data": {
      "application/vnd.jupyter.widget-view+json": {
       "model_id": "51b662d329954a0cb3a9e3c4e1a35c79",
       "version_major": 2,
       "version_minor": 0
      },
      "text/plain": [
       "  0%|          | 0/600 [00:00<?, ?it/s]"
      ]
     },
     "metadata": {},
     "output_type": "display_data"
    }
   ],
   "source": [
    "criterion = nn.CrossEntropyLoss()\n",
    "optimizer = torch.optim.SGD(parameters, lr=0.1)\n",
    "for images, labels in tqdm(train_loader):\n",
    "    optimizer.zero_grad()\n",
    "    hiddenfeatures = torch.zeros(shiddenlayer, 100, 10)\n",
    "    x = images.view(-1, 784)\n",
    "    for modelno in range(shiddenlayer):\n",
    "        y = models[modelno](x)\n",
    "        hiddenfeatures[modelno] += F.relu(y)\n",
    "    modelsum = torch.sum(hiddenfeatures, 0, keepdim=False)\n",
    "    loss = criterion(modelsum, labels)\n",
    "    loss.backward()\n",
    "    optimizer.step()\n",
    "        "
   ]
  },
  {
   "cell_type": "markdown",
   "id": "f3acefce",
   "metadata": {
    "papermill": {
     "duration": 0.057046,
     "end_time": "2022-11-28T20:43:39.038747",
     "exception": false,
     "start_time": "2022-11-28T20:43:38.981701",
     "status": "completed"
    },
    "tags": []
   },
   "source": [
    "Testing our model and checking its accuracy if it has increased from before or not."
   ]
  },
  {
   "cell_type": "code",
   "execution_count": 37,
   "id": "aecf1894",
   "metadata": {
    "execution": {
     "iopub.execute_input": "2022-11-28T20:43:39.157894Z",
     "iopub.status.busy": "2022-11-28T20:43:39.157217Z",
     "iopub.status.idle": "2022-11-28T20:43:41.200026Z",
     "shell.execute_reply": "2022-11-28T20:43:41.199422Z",
     "shell.execute_reply.started": "2022-11-28T20:29:09.601834Z"
    },
    "papermill": {
     "duration": 2.103194,
     "end_time": "2022-11-28T20:43:41.200190",
     "exception": false,
     "start_time": "2022-11-28T20:43:39.096996",
     "status": "completed"
    },
    "tags": []
   },
   "outputs": [
    {
     "data": {
      "application/vnd.jupyter.widget-view+json": {
       "model_id": "9cabd8792f4a4ebbbc2626c4f90e7271",
       "version_major": 2,
       "version_minor": 0
      },
      "text/plain": [
       "  0%|          | 0/100 [00:00<?, ?it/s]"
      ]
     },
     "metadata": {},
     "output_type": "display_data"
    }
   ],
   "source": [
    "# Testing\n",
    "correct = 0\n",
    "total = len(mnist_test)\n",
    "with torch.no_grad():\n",
    "    for images, labels in tqdm(test_loader):\n",
    "        x = images.view(-1, 784)\n",
    "        hiddenfeatures = torch.zeros(shiddenlayer, 100, 10)\n",
    "        for modelno in range(shiddenlayer):\n",
    "            y = models[modelno](x)\n",
    "            hiddenfeatures[modelno] += F.relu(y)\n",
    "        modelsum = torch.sum(hiddenfeatures, 0, keepdim=False)\n",
    "        prediction = torch.argmax(modelsum, dim=1)\n",
    "        correct += torch.sum((prediction == labels).float())\n",
    "            "
   ]
  },
  {
   "cell_type": "code",
   "execution_count": 38,
   "id": "3d70d524",
   "metadata": {
    "execution": {
     "iopub.execute_input": "2022-11-28T20:43:41.319492Z",
     "iopub.status.busy": "2022-11-28T20:43:41.318815Z",
     "iopub.status.idle": "2022-11-28T20:43:41.324986Z",
     "shell.execute_reply": "2022-11-28T20:43:41.325613Z",
     "shell.execute_reply.started": "2022-11-28T20:29:14.040269Z"
    },
    "papermill": {
     "duration": 0.066436,
     "end_time": "2022-11-28T20:43:41.325794",
     "exception": false,
     "start_time": "2022-11-28T20:43:41.259358",
     "status": "completed"
    },
    "tags": []
   },
   "outputs": [
    {
     "name": "stdout",
     "output_type": "stream",
     "text": [
      "Test Accuracy:93.94000244140625%\n",
      "\n"
     ]
    }
   ],
   "source": [
    "print(\"Test Accuracy:{}%\\n\".format(correct/total*100))"
   ]
  },
  {
   "cell_type": "markdown",
   "id": "cce31139",
   "metadata": {
    "papermill": {
     "duration": 0.058185,
     "end_time": "2022-11-28T20:43:41.441353",
     "exception": false,
     "start_time": "2022-11-28T20:43:41.383168",
     "status": "completed"
    },
    "tags": []
   },
   "source": []
  }
 ],
 "metadata": {
  "kernelspec": {
   "display_name": "Python 3",
   "language": "python",
   "name": "python3"
  },
  "language_info": {
   "codemirror_mode": {
    "name": "ipython",
    "version": 3
   },
   "file_extension": ".py",
   "mimetype": "text/x-python",
   "name": "python",
   "nbconvert_exporter": "python",
   "pygments_lexer": "ipython3",
   "version": "3.7.10"
  },
  "papermill": {
   "default_parameters": {},
   "duration": 69.639575,
   "end_time": "2022-11-28T20:43:42.313953",
   "environment_variables": {},
   "exception": null,
   "input_path": "__notebook__.ipynb",
   "output_path": "__notebook__.ipynb",
   "parameters": {},
   "start_time": "2022-11-28T20:42:32.674378",
   "version": "2.3.3"
  },
  "widgets": {
   "application/vnd.jupyter.widget-state+json": {
    "state": {
     "01ebcbeb007d4940b6061796a20adf4c": {
      "model_module": "@jupyter-widgets/controls",
      "model_module_version": "1.5.0",
      "model_name": "HTMLModel",
      "state": {
       "_dom_classes": [],
       "_model_module": "@jupyter-widgets/controls",
       "_model_module_version": "1.5.0",
       "_model_name": "HTMLModel",
       "_view_count": null,
       "_view_module": "@jupyter-widgets/controls",
       "_view_module_version": "1.5.0",
       "_view_name": "HTMLView",
       "description": "",
       "description_tooltip": null,
       "layout": "IPY_MODEL_1fad807a794846baa72fe586775d6c34",
       "placeholder": "​",
       "style": "IPY_MODEL_ed9589c28e8d4c7d91b461b4db0addb8",
       "value": " 600/600 [00:05&lt;00:00, 113.68it/s]"
      }
     },
     "06fc8369813e4d329da20e16dfc2ba2d": {
      "model_module": "@jupyter-widgets/base",
      "model_module_version": "1.2.0",
      "model_name": "LayoutModel",
      "state": {
       "_model_module": "@jupyter-widgets/base",
       "_model_module_version": "1.2.0",
       "_model_name": "LayoutModel",
       "_view_count": null,
       "_view_module": "@jupyter-widgets/base",
       "_view_module_version": "1.2.0",
       "_view_name": "LayoutView",
       "align_content": null,
       "align_items": null,
       "align_self": null,
       "border": null,
       "bottom": null,
       "display": null,
       "flex": null,
       "flex_flow": null,
       "grid_area": null,
       "grid_auto_columns": null,
       "grid_auto_flow": null,
       "grid_auto_rows": null,
       "grid_column": null,
       "grid_gap": null,
       "grid_row": null,
       "grid_template_areas": null,
       "grid_template_columns": null,
       "grid_template_rows": null,
       "height": null,
       "justify_content": null,
       "justify_items": null,
       "left": null,
       "margin": null,
       "max_height": null,
       "max_width": null,
       "min_height": null,
       "min_width": null,
       "object_fit": null,
       "object_position": null,
       "order": null,
       "overflow": null,
       "overflow_x": null,
       "overflow_y": null,
       "padding": null,
       "right": null,
       "top": null,
       "visibility": null,
       "width": null
      }
     },
     "096c756dad3e4a5691fb68c4483a7a00": {
      "model_module": "@jupyter-widgets/controls",
      "model_module_version": "1.5.0",
      "model_name": "HBoxModel",
      "state": {
       "_dom_classes": [],
       "_model_module": "@jupyter-widgets/controls",
       "_model_module_version": "1.5.0",
       "_model_name": "HBoxModel",
       "_view_count": null,
       "_view_module": "@jupyter-widgets/controls",
       "_view_module_version": "1.5.0",
       "_view_name": "HBoxView",
       "box_style": "",
       "children": [
        "IPY_MODEL_8662388f588549f299fc6588205a7f2c",
        "IPY_MODEL_3dcf3889a2bc492982a210b3b7ecc77a",
        "IPY_MODEL_1fad350fd46a4c3e9ae11e55789d8fe4"
       ],
       "layout": "IPY_MODEL_a3889dc63aa84b51a975fbcd1507b0e2"
      }
     },
     "0afab6591d5b4bfa9d19332d1ec18587": {
      "model_module": "@jupyter-widgets/controls",
      "model_module_version": "1.5.0",
      "model_name": "DescriptionStyleModel",
      "state": {
       "_model_module": "@jupyter-widgets/controls",
       "_model_module_version": "1.5.0",
       "_model_name": "DescriptionStyleModel",
       "_view_count": null,
       "_view_module": "@jupyter-widgets/base",
       "_view_module_version": "1.2.0",
       "_view_name": "StyleView",
       "description_width": ""
      }
     },
     "0cb589f9ee3c43ea88ebb2e2c6139303": {
      "model_module": "@jupyter-widgets/base",
      "model_module_version": "1.2.0",
      "model_name": "LayoutModel",
      "state": {
       "_model_module": "@jupyter-widgets/base",
       "_model_module_version": "1.2.0",
       "_model_name": "LayoutModel",
       "_view_count": null,
       "_view_module": "@jupyter-widgets/base",
       "_view_module_version": "1.2.0",
       "_view_name": "LayoutView",
       "align_content": null,
       "align_items": null,
       "align_self": null,
       "border": null,
       "bottom": null,
       "display": null,
       "flex": null,
       "flex_flow": null,
       "grid_area": null,
       "grid_auto_columns": null,
       "grid_auto_flow": null,
       "grid_auto_rows": null,
       "grid_column": null,
       "grid_gap": null,
       "grid_row": null,
       "grid_template_areas": null,
       "grid_template_columns": null,
       "grid_template_rows": null,
       "height": null,
       "justify_content": null,
       "justify_items": null,
       "left": null,
       "margin": null,
       "max_height": null,
       "max_width": null,
       "min_height": null,
       "min_width": null,
       "object_fit": null,
       "object_position": null,
       "order": null,
       "overflow": null,
       "overflow_x": null,
       "overflow_y": null,
       "padding": null,
       "right": null,
       "top": null,
       "visibility": null,
       "width": null
      }
     },
     "0d367dd3e8444710a463e4f7ca8fc667": {
      "model_module": "@jupyter-widgets/base",
      "model_module_version": "1.2.0",
      "model_name": "LayoutModel",
      "state": {
       "_model_module": "@jupyter-widgets/base",
       "_model_module_version": "1.2.0",
       "_model_name": "LayoutModel",
       "_view_count": null,
       "_view_module": "@jupyter-widgets/base",
       "_view_module_version": "1.2.0",
       "_view_name": "LayoutView",
       "align_content": null,
       "align_items": null,
       "align_self": null,
       "border": null,
       "bottom": null,
       "display": null,
       "flex": null,
       "flex_flow": null,
       "grid_area": null,
       "grid_auto_columns": null,
       "grid_auto_flow": null,
       "grid_auto_rows": null,
       "grid_column": null,
       "grid_gap": null,
       "grid_row": null,
       "grid_template_areas": null,
       "grid_template_columns": null,
       "grid_template_rows": null,
       "height": null,
       "justify_content": null,
       "justify_items": null,
       "left": null,
       "margin": null,
       "max_height": null,
       "max_width": null,
       "min_height": null,
       "min_width": null,
       "object_fit": null,
       "object_position": null,
       "order": null,
       "overflow": null,
       "overflow_x": null,
       "overflow_y": null,
       "padding": null,
       "right": null,
       "top": null,
       "visibility": null,
       "width": null
      }
     },
     "10071f87068e4cfd9e66d1216168ad0c": {
      "model_module": "@jupyter-widgets/controls",
      "model_module_version": "1.5.0",
      "model_name": "ProgressStyleModel",
      "state": {
       "_model_module": "@jupyter-widgets/controls",
       "_model_module_version": "1.5.0",
       "_model_name": "ProgressStyleModel",
       "_view_count": null,
       "_view_module": "@jupyter-widgets/base",
       "_view_module_version": "1.2.0",
       "_view_name": "StyleView",
       "bar_color": null,
       "description_width": ""
      }
     },
     "10d4a0a2de6d4e1ca078050b9f9db879": {
      "model_module": "@jupyter-widgets/controls",
      "model_module_version": "1.5.0",
      "model_name": "DescriptionStyleModel",
      "state": {
       "_model_module": "@jupyter-widgets/controls",
       "_model_module_version": "1.5.0",
       "_model_name": "DescriptionStyleModel",
       "_view_count": null,
       "_view_module": "@jupyter-widgets/base",
       "_view_module_version": "1.2.0",
       "_view_name": "StyleView",
       "description_width": ""
      }
     },
     "156d2fba772a43acac37b4c112f57617": {
      "model_module": "@jupyter-widgets/controls",
      "model_module_version": "1.5.0",
      "model_name": "ProgressStyleModel",
      "state": {
       "_model_module": "@jupyter-widgets/controls",
       "_model_module_version": "1.5.0",
       "_model_name": "ProgressStyleModel",
       "_view_count": null,
       "_view_module": "@jupyter-widgets/base",
       "_view_module_version": "1.2.0",
       "_view_name": "StyleView",
       "bar_color": null,
       "description_width": ""
      }
     },
     "177de42d739346f19c705547fa728619": {
      "model_module": "@jupyter-widgets/controls",
      "model_module_version": "1.5.0",
      "model_name": "DescriptionStyleModel",
      "state": {
       "_model_module": "@jupyter-widgets/controls",
       "_model_module_version": "1.5.0",
       "_model_name": "DescriptionStyleModel",
       "_view_count": null,
       "_view_module": "@jupyter-widgets/base",
       "_view_module_version": "1.2.0",
       "_view_name": "StyleView",
       "description_width": ""
      }
     },
     "19de5f2745df43289ad6fa4500ffa98f": {
      "model_module": "@jupyter-widgets/base",
      "model_module_version": "1.2.0",
      "model_name": "LayoutModel",
      "state": {
       "_model_module": "@jupyter-widgets/base",
       "_model_module_version": "1.2.0",
       "_model_name": "LayoutModel",
       "_view_count": null,
       "_view_module": "@jupyter-widgets/base",
       "_view_module_version": "1.2.0",
       "_view_name": "LayoutView",
       "align_content": null,
       "align_items": null,
       "align_self": null,
       "border": null,
       "bottom": null,
       "display": null,
       "flex": null,
       "flex_flow": null,
       "grid_area": null,
       "grid_auto_columns": null,
       "grid_auto_flow": null,
       "grid_auto_rows": null,
       "grid_column": null,
       "grid_gap": null,
       "grid_row": null,
       "grid_template_areas": null,
       "grid_template_columns": null,
       "grid_template_rows": null,
       "height": null,
       "justify_content": null,
       "justify_items": null,
       "left": null,
       "margin": null,
       "max_height": null,
       "max_width": null,
       "min_height": null,
       "min_width": null,
       "object_fit": null,
       "object_position": null,
       "order": null,
       "overflow": null,
       "overflow_x": null,
       "overflow_y": null,
       "padding": null,
       "right": null,
       "top": null,
       "visibility": null,
       "width": "20px"
      }
     },
     "1fad350fd46a4c3e9ae11e55789d8fe4": {
      "model_module": "@jupyter-widgets/controls",
      "model_module_version": "1.5.0",
      "model_name": "HTMLModel",
      "state": {
       "_dom_classes": [],
       "_model_module": "@jupyter-widgets/controls",
       "_model_module_version": "1.5.0",
       "_model_name": "HTMLModel",
       "_view_count": null,
       "_view_module": "@jupyter-widgets/controls",
       "_view_module_version": "1.5.0",
       "_view_name": "HTMLView",
       "description": "",
       "description_tooltip": null,
       "layout": "IPY_MODEL_36fd14ef37ad48b79e17af6e0762ad83",
       "placeholder": "​",
       "style": "IPY_MODEL_b4b806419f6a4d75a13d4077233fa78e",
       "value": " 0/1648877 [00:00&lt;?, ?it/s]"
      }
     },
     "1fad807a794846baa72fe586775d6c34": {
      "model_module": "@jupyter-widgets/base",
      "model_module_version": "1.2.0",
      "model_name": "LayoutModel",
      "state": {
       "_model_module": "@jupyter-widgets/base",
       "_model_module_version": "1.2.0",
       "_model_name": "LayoutModel",
       "_view_count": null,
       "_view_module": "@jupyter-widgets/base",
       "_view_module_version": "1.2.0",
       "_view_name": "LayoutView",
       "align_content": null,
       "align_items": null,
       "align_self": null,
       "border": null,
       "bottom": null,
       "display": null,
       "flex": null,
       "flex_flow": null,
       "grid_area": null,
       "grid_auto_columns": null,
       "grid_auto_flow": null,
       "grid_auto_rows": null,
       "grid_column": null,
       "grid_gap": null,
       "grid_row": null,
       "grid_template_areas": null,
       "grid_template_columns": null,
       "grid_template_rows": null,
       "height": null,
       "justify_content": null,
       "justify_items": null,
       "left": null,
       "margin": null,
       "max_height": null,
       "max_width": null,
       "min_height": null,
       "min_width": null,
       "object_fit": null,
       "object_position": null,
       "order": null,
       "overflow": null,
       "overflow_x": null,
       "overflow_y": null,
       "padding": null,
       "right": null,
       "top": null,
       "visibility": null,
       "width": null
      }
     },
     "22a99663b60c4c0c8491bbfe0bacea26": {
      "model_module": "@jupyter-widgets/controls",
      "model_module_version": "1.5.0",
      "model_name": "HTMLModel",
      "state": {
       "_dom_classes": [],
       "_model_module": "@jupyter-widgets/controls",
       "_model_module_version": "1.5.0",
       "_model_name": "HTMLModel",
       "_view_count": null,
       "_view_module": "@jupyter-widgets/controls",
       "_view_module_version": "1.5.0",
       "_view_name": "HTMLView",
       "description": "",
       "description_tooltip": null,
       "layout": "IPY_MODEL_43f8445af0b642238f32e28a99a8379c",
       "placeholder": "​",
       "style": "IPY_MODEL_9d70dbe87f254d5f8ea3ccc392c567ad",
       "value": " 600/600 [00:05&lt;00:00, 111.21it/s]"
      }
     },
     "259648d397924a798a1701cb9d1dec40": {
      "model_module": "@jupyter-widgets/controls",
      "model_module_version": "1.5.0",
      "model_name": "HTMLModel",
      "state": {
       "_dom_classes": [],
       "_model_module": "@jupyter-widgets/controls",
       "_model_module_version": "1.5.0",
       "_model_name": "HTMLModel",
       "_view_count": null,
       "_view_module": "@jupyter-widgets/controls",
       "_view_module_version": "1.5.0",
       "_view_name": "HTMLView",
       "description": "",
       "description_tooltip": null,
       "layout": "IPY_MODEL_a11fdca44db342fe9df7020e6d48bdca",
       "placeholder": "​",
       "style": "IPY_MODEL_527903bbff1542939ff68feda142984e",
       "value": "100%"
      }
     },
     "36fd14ef37ad48b79e17af6e0762ad83": {
      "model_module": "@jupyter-widgets/base",
      "model_module_version": "1.2.0",
      "model_name": "LayoutModel",
      "state": {
       "_model_module": "@jupyter-widgets/base",
       "_model_module_version": "1.2.0",
       "_model_name": "LayoutModel",
       "_view_count": null,
       "_view_module": "@jupyter-widgets/base",
       "_view_module_version": "1.2.0",
       "_view_name": "LayoutView",
       "align_content": null,
       "align_items": null,
       "align_self": null,
       "border": null,
       "bottom": null,
       "display": null,
       "flex": null,
       "flex_flow": null,
       "grid_area": null,
       "grid_auto_columns": null,
       "grid_auto_flow": null,
       "grid_auto_rows": null,
       "grid_column": null,
       "grid_gap": null,
       "grid_row": null,
       "grid_template_areas": null,
       "grid_template_columns": null,
       "grid_template_rows": null,
       "height": null,
       "justify_content": null,
       "justify_items": null,
       "left": null,
       "margin": null,
       "max_height": null,
       "max_width": null,
       "min_height": null,
       "min_width": null,
       "object_fit": null,
       "object_position": null,
       "order": null,
       "overflow": null,
       "overflow_x": null,
       "overflow_y": null,
       "padding": null,
       "right": null,
       "top": null,
       "visibility": null,
       "width": null
      }
     },
     "3735fad01ced4232a7bd9f7c3ab0f51f": {
      "model_module": "@jupyter-widgets/controls",
      "model_module_version": "1.5.0",
      "model_name": "DescriptionStyleModel",
      "state": {
       "_model_module": "@jupyter-widgets/controls",
       "_model_module_version": "1.5.0",
       "_model_name": "DescriptionStyleModel",
       "_view_count": null,
       "_view_module": "@jupyter-widgets/base",
       "_view_module_version": "1.2.0",
       "_view_name": "StyleView",
       "description_width": ""
      }
     },
     "379f724e5d794c44a26ad4c7f84c455c": {
      "model_module": "@jupyter-widgets/base",
      "model_module_version": "1.2.0",
      "model_name": "LayoutModel",
      "state": {
       "_model_module": "@jupyter-widgets/base",
       "_model_module_version": "1.2.0",
       "_model_name": "LayoutModel",
       "_view_count": null,
       "_view_module": "@jupyter-widgets/base",
       "_view_module_version": "1.2.0",
       "_view_name": "LayoutView",
       "align_content": null,
       "align_items": null,
       "align_self": null,
       "border": null,
       "bottom": null,
       "display": null,
       "flex": null,
       "flex_flow": null,
       "grid_area": null,
       "grid_auto_columns": null,
       "grid_auto_flow": null,
       "grid_auto_rows": null,
       "grid_column": null,
       "grid_gap": null,
       "grid_row": null,
       "grid_template_areas": null,
       "grid_template_columns": null,
       "grid_template_rows": null,
       "height": null,
       "justify_content": null,
       "justify_items": null,
       "left": null,
       "margin": null,
       "max_height": null,
       "max_width": null,
       "min_height": null,
       "min_width": null,
       "object_fit": null,
       "object_position": null,
       "order": null,
       "overflow": null,
       "overflow_x": null,
       "overflow_y": null,
       "padding": null,
       "right": null,
       "top": null,
       "visibility": null,
       "width": "20px"
      }
     },
     "39410ad684ba4e9da309a4fbf6628cc9": {
      "model_module": "@jupyter-widgets/base",
      "model_module_version": "1.2.0",
      "model_name": "LayoutModel",
      "state": {
       "_model_module": "@jupyter-widgets/base",
       "_model_module_version": "1.2.0",
       "_model_name": "LayoutModel",
       "_view_count": null,
       "_view_module": "@jupyter-widgets/base",
       "_view_module_version": "1.2.0",
       "_view_name": "LayoutView",
       "align_content": null,
       "align_items": null,
       "align_self": null,
       "border": null,
       "bottom": null,
       "display": null,
       "flex": null,
       "flex_flow": null,
       "grid_area": null,
       "grid_auto_columns": null,
       "grid_auto_flow": null,
       "grid_auto_rows": null,
       "grid_column": null,
       "grid_gap": null,
       "grid_row": null,
       "grid_template_areas": null,
       "grid_template_columns": null,
       "grid_template_rows": null,
       "height": null,
       "justify_content": null,
       "justify_items": null,
       "left": null,
       "margin": null,
       "max_height": null,
       "max_width": null,
       "min_height": null,
       "min_width": null,
       "object_fit": null,
       "object_position": null,
       "order": null,
       "overflow": null,
       "overflow_x": null,
       "overflow_y": null,
       "padding": null,
       "right": null,
       "top": null,
       "visibility": null,
       "width": null
      }
     },
     "3a3cebc1a5564d208c72806df960f34e": {
      "model_module": "@jupyter-widgets/controls",
      "model_module_version": "1.5.0",
      "model_name": "DescriptionStyleModel",
      "state": {
       "_model_module": "@jupyter-widgets/controls",
       "_model_module_version": "1.5.0",
       "_model_name": "DescriptionStyleModel",
       "_view_count": null,
       "_view_module": "@jupyter-widgets/base",
       "_view_module_version": "1.2.0",
       "_view_name": "StyleView",
       "description_width": ""
      }
     },
     "3dcf3889a2bc492982a210b3b7ecc77a": {
      "model_module": "@jupyter-widgets/controls",
      "model_module_version": "1.5.0",
      "model_name": "FloatProgressModel",
      "state": {
       "_dom_classes": [],
       "_model_module": "@jupyter-widgets/controls",
       "_model_module_version": "1.5.0",
       "_model_name": "FloatProgressModel",
       "_view_count": null,
       "_view_module": "@jupyter-widgets/controls",
       "_view_module_version": "1.5.0",
       "_view_name": "ProgressView",
       "bar_style": "info",
       "description": "",
       "description_tooltip": null,
       "layout": "IPY_MODEL_19de5f2745df43289ad6fa4500ffa98f",
       "max": 1.0,
       "min": 0.0,
       "orientation": "horizontal",
       "style": "IPY_MODEL_bcc4c57648af4d2ab2f6544b135130e8",
       "value": 0.0
      }
     },
     "420929cae0e34c72acaa9f72d20d1de1": {
      "model_module": "@jupyter-widgets/base",
      "model_module_version": "1.2.0",
      "model_name": "LayoutModel",
      "state": {
       "_model_module": "@jupyter-widgets/base",
       "_model_module_version": "1.2.0",
       "_model_name": "LayoutModel",
       "_view_count": null,
       "_view_module": "@jupyter-widgets/base",
       "_view_module_version": "1.2.0",
       "_view_name": "LayoutView",
       "align_content": null,
       "align_items": null,
       "align_self": null,
       "border": null,
       "bottom": null,
       "display": null,
       "flex": null,
       "flex_flow": null,
       "grid_area": null,
       "grid_auto_columns": null,
       "grid_auto_flow": null,
       "grid_auto_rows": null,
       "grid_column": null,
       "grid_gap": null,
       "grid_row": null,
       "grid_template_areas": null,
       "grid_template_columns": null,
       "grid_template_rows": null,
       "height": null,
       "justify_content": null,
       "justify_items": null,
       "left": null,
       "margin": null,
       "max_height": null,
       "max_width": null,
       "min_height": null,
       "min_width": null,
       "object_fit": null,
       "object_position": null,
       "order": null,
       "overflow": null,
       "overflow_x": null,
       "overflow_y": null,
       "padding": null,
       "right": null,
       "top": null,
       "visibility": null,
       "width": null
      }
     },
     "43f8445af0b642238f32e28a99a8379c": {
      "model_module": "@jupyter-widgets/base",
      "model_module_version": "1.2.0",
      "model_name": "LayoutModel",
      "state": {
       "_model_module": "@jupyter-widgets/base",
       "_model_module_version": "1.2.0",
       "_model_name": "LayoutModel",
       "_view_count": null,
       "_view_module": "@jupyter-widgets/base",
       "_view_module_version": "1.2.0",
       "_view_name": "LayoutView",
       "align_content": null,
       "align_items": null,
       "align_self": null,
       "border": null,
       "bottom": null,
       "display": null,
       "flex": null,
       "flex_flow": null,
       "grid_area": null,
       "grid_auto_columns": null,
       "grid_auto_flow": null,
       "grid_auto_rows": null,
       "grid_column": null,
       "grid_gap": null,
       "grid_row": null,
       "grid_template_areas": null,
       "grid_template_columns": null,
       "grid_template_rows": null,
       "height": null,
       "justify_content": null,
       "justify_items": null,
       "left": null,
       "margin": null,
       "max_height": null,
       "max_width": null,
       "min_height": null,
       "min_width": null,
       "object_fit": null,
       "object_position": null,
       "order": null,
       "overflow": null,
       "overflow_x": null,
       "overflow_y": null,
       "padding": null,
       "right": null,
       "top": null,
       "visibility": null,
       "width": null
      }
     },
     "443dcaad8ca64cf5a8a3538ac965cb50": {
      "model_module": "@jupyter-widgets/base",
      "model_module_version": "1.2.0",
      "model_name": "LayoutModel",
      "state": {
       "_model_module": "@jupyter-widgets/base",
       "_model_module_version": "1.2.0",
       "_model_name": "LayoutModel",
       "_view_count": null,
       "_view_module": "@jupyter-widgets/base",
       "_view_module_version": "1.2.0",
       "_view_name": "LayoutView",
       "align_content": null,
       "align_items": null,
       "align_self": null,
       "border": null,
       "bottom": null,
       "display": null,
       "flex": null,
       "flex_flow": null,
       "grid_area": null,
       "grid_auto_columns": null,
       "grid_auto_flow": null,
       "grid_auto_rows": null,
       "grid_column": null,
       "grid_gap": null,
       "grid_row": null,
       "grid_template_areas": null,
       "grid_template_columns": null,
       "grid_template_rows": null,
       "height": null,
       "justify_content": null,
       "justify_items": null,
       "left": null,
       "margin": null,
       "max_height": null,
       "max_width": null,
       "min_height": null,
       "min_width": null,
       "object_fit": null,
       "object_position": null,
       "order": null,
       "overflow": null,
       "overflow_x": null,
       "overflow_y": null,
       "padding": null,
       "right": null,
       "top": null,
       "visibility": null,
       "width": null
      }
     },
     "4d8e6f43b6254c0c9ef4adc3116f9052": {
      "model_module": "@jupyter-widgets/controls",
      "model_module_version": "1.5.0",
      "model_name": "DescriptionStyleModel",
      "state": {
       "_model_module": "@jupyter-widgets/controls",
       "_model_module_version": "1.5.0",
       "_model_name": "DescriptionStyleModel",
       "_view_count": null,
       "_view_module": "@jupyter-widgets/base",
       "_view_module_version": "1.2.0",
       "_view_name": "StyleView",
       "description_width": ""
      }
     },
     "51b662d329954a0cb3a9e3c4e1a35c79": {
      "model_module": "@jupyter-widgets/controls",
      "model_module_version": "1.5.0",
      "model_name": "HBoxModel",
      "state": {
       "_dom_classes": [],
       "_model_module": "@jupyter-widgets/controls",
       "_model_module_version": "1.5.0",
       "_model_name": "HBoxModel",
       "_view_count": null,
       "_view_module": "@jupyter-widgets/controls",
       "_view_module_version": "1.5.0",
       "_view_name": "HBoxView",
       "box_style": "",
       "children": [
        "IPY_MODEL_6d7a4daccd5649189b9009bdf3609fd4",
        "IPY_MODEL_c9bb48b45bea4c44bcc40690c9363311",
        "IPY_MODEL_a4beb6e2bd2a4e3291a097ef40871f47"
       ],
       "layout": "IPY_MODEL_89c7bb2b822f4d549283377549dfa97c"
      }
     },
     "527903bbff1542939ff68feda142984e": {
      "model_module": "@jupyter-widgets/controls",
      "model_module_version": "1.5.0",
      "model_name": "DescriptionStyleModel",
      "state": {
       "_model_module": "@jupyter-widgets/controls",
       "_model_module_version": "1.5.0",
       "_model_name": "DescriptionStyleModel",
       "_view_count": null,
       "_view_module": "@jupyter-widgets/base",
       "_view_module_version": "1.2.0",
       "_view_name": "StyleView",
       "description_width": ""
      }
     },
     "545f0319f946429bbcd35f24381e7ff4": {
      "model_module": "@jupyter-widgets/controls",
      "model_module_version": "1.5.0",
      "model_name": "FloatProgressModel",
      "state": {
       "_dom_classes": [],
       "_model_module": "@jupyter-widgets/controls",
       "_model_module_version": "1.5.0",
       "_model_name": "FloatProgressModel",
       "_view_count": null,
       "_view_module": "@jupyter-widgets/controls",
       "_view_module_version": "1.5.0",
       "_view_name": "ProgressView",
       "bar_style": "info",
       "description": "",
       "description_tooltip": null,
       "layout": "IPY_MODEL_379f724e5d794c44a26ad4c7f84c455c",
       "max": 1.0,
       "min": 0.0,
       "orientation": "horizontal",
       "style": "IPY_MODEL_a59604c8ef9f44c9a49a4575d8cb0e3f",
       "value": 0.0
      }
     },
     "564cd4854bbc4f6aa6695cae2abaca64": {
      "model_module": "@jupyter-widgets/base",
      "model_module_version": "1.2.0",
      "model_name": "LayoutModel",
      "state": {
       "_model_module": "@jupyter-widgets/base",
       "_model_module_version": "1.2.0",
       "_model_name": "LayoutModel",
       "_view_count": null,
       "_view_module": "@jupyter-widgets/base",
       "_view_module_version": "1.2.0",
       "_view_name": "LayoutView",
       "align_content": null,
       "align_items": null,
       "align_self": null,
       "border": null,
       "bottom": null,
       "display": null,
       "flex": null,
       "flex_flow": null,
       "grid_area": null,
       "grid_auto_columns": null,
       "grid_auto_flow": null,
       "grid_auto_rows": null,
       "grid_column": null,
       "grid_gap": null,
       "grid_row": null,
       "grid_template_areas": null,
       "grid_template_columns": null,
       "grid_template_rows": null,
       "height": null,
       "justify_content": null,
       "justify_items": null,
       "left": null,
       "margin": null,
       "max_height": null,
       "max_width": null,
       "min_height": null,
       "min_width": null,
       "object_fit": null,
       "object_position": null,
       "order": null,
       "overflow": null,
       "overflow_x": null,
       "overflow_y": null,
       "padding": null,
       "right": null,
       "top": null,
       "visibility": null,
       "width": null
      }
     },
     "5a4af5a203534a068d6f2f22126b94ab": {
      "model_module": "@jupyter-widgets/base",
      "model_module_version": "1.2.0",
      "model_name": "LayoutModel",
      "state": {
       "_model_module": "@jupyter-widgets/base",
       "_model_module_version": "1.2.0",
       "_model_name": "LayoutModel",
       "_view_count": null,
       "_view_module": "@jupyter-widgets/base",
       "_view_module_version": "1.2.0",
       "_view_name": "LayoutView",
       "align_content": null,
       "align_items": null,
       "align_self": null,
       "border": null,
       "bottom": null,
       "display": null,
       "flex": null,
       "flex_flow": null,
       "grid_area": null,
       "grid_auto_columns": null,
       "grid_auto_flow": null,
       "grid_auto_rows": null,
       "grid_column": null,
       "grid_gap": null,
       "grid_row": null,
       "grid_template_areas": null,
       "grid_template_columns": null,
       "grid_template_rows": null,
       "height": null,
       "justify_content": null,
       "justify_items": null,
       "left": null,
       "margin": null,
       "max_height": null,
       "max_width": null,
       "min_height": null,
       "min_width": null,
       "object_fit": null,
       "object_position": null,
       "order": null,
       "overflow": null,
       "overflow_x": null,
       "overflow_y": null,
       "padding": null,
       "right": null,
       "top": null,
       "visibility": null,
       "width": null
      }
     },
     "6c06204273b64a2daa42bdcdd089ba9a": {
      "model_module": "@jupyter-widgets/controls",
      "model_module_version": "1.5.0",
      "model_name": "HTMLModel",
      "state": {
       "_dom_classes": [],
       "_model_module": "@jupyter-widgets/controls",
       "_model_module_version": "1.5.0",
       "_model_name": "HTMLModel",
       "_view_count": null,
       "_view_module": "@jupyter-widgets/controls",
       "_view_module_version": "1.5.0",
       "_view_name": "HTMLView",
       "description": "",
       "description_tooltip": null,
       "layout": "IPY_MODEL_443dcaad8ca64cf5a8a3538ac965cb50",
       "placeholder": "​",
       "style": "IPY_MODEL_3735fad01ced4232a7bd9f7c3ab0f51f",
       "value": " 100/100 [00:00&lt;00:00, 121.80it/s]"
      }
     },
     "6d7a4daccd5649189b9009bdf3609fd4": {
      "model_module": "@jupyter-widgets/controls",
      "model_module_version": "1.5.0",
      "model_name": "HTMLModel",
      "state": {
       "_dom_classes": [],
       "_model_module": "@jupyter-widgets/controls",
       "_model_module_version": "1.5.0",
       "_model_name": "HTMLModel",
       "_view_count": null,
       "_view_module": "@jupyter-widgets/controls",
       "_view_module_version": "1.5.0",
       "_view_name": "HTMLView",
       "description": "",
       "description_tooltip": null,
       "layout": "IPY_MODEL_f9a4d95bf2b740fe8e0369191a6f6003",
       "placeholder": "​",
       "style": "IPY_MODEL_177de42d739346f19c705547fa728619",
       "value": "100%"
      }
     },
     "6e0c1a6136fd496a88ad94d1d93f7ee6": {
      "model_module": "@jupyter-widgets/base",
      "model_module_version": "1.2.0",
      "model_name": "LayoutModel",
      "state": {
       "_model_module": "@jupyter-widgets/base",
       "_model_module_version": "1.2.0",
       "_model_name": "LayoutModel",
       "_view_count": null,
       "_view_module": "@jupyter-widgets/base",
       "_view_module_version": "1.2.0",
       "_view_name": "LayoutView",
       "align_content": null,
       "align_items": null,
       "align_self": null,
       "border": null,
       "bottom": null,
       "display": null,
       "flex": null,
       "flex_flow": null,
       "grid_area": null,
       "grid_auto_columns": null,
       "grid_auto_flow": null,
       "grid_auto_rows": null,
       "grid_column": null,
       "grid_gap": null,
       "grid_row": null,
       "grid_template_areas": null,
       "grid_template_columns": null,
       "grid_template_rows": null,
       "height": null,
       "justify_content": null,
       "justify_items": null,
       "left": null,
       "margin": null,
       "max_height": null,
       "max_width": null,
       "min_height": null,
       "min_width": null,
       "object_fit": null,
       "object_position": null,
       "order": null,
       "overflow": null,
       "overflow_x": null,
       "overflow_y": null,
       "padding": null,
       "right": null,
       "top": null,
       "visibility": null,
       "width": null
      }
     },
     "71e36d9bf20245d3a3f9bb97ca1d0a29": {
      "model_module": "@jupyter-widgets/base",
      "model_module_version": "1.2.0",
      "model_name": "LayoutModel",
      "state": {
       "_model_module": "@jupyter-widgets/base",
       "_model_module_version": "1.2.0",
       "_model_name": "LayoutModel",
       "_view_count": null,
       "_view_module": "@jupyter-widgets/base",
       "_view_module_version": "1.2.0",
       "_view_name": "LayoutView",
       "align_content": null,
       "align_items": null,
       "align_self": null,
       "border": null,
       "bottom": null,
       "display": null,
       "flex": null,
       "flex_flow": null,
       "grid_area": null,
       "grid_auto_columns": null,
       "grid_auto_flow": null,
       "grid_auto_rows": null,
       "grid_column": null,
       "grid_gap": null,
       "grid_row": null,
       "grid_template_areas": null,
       "grid_template_columns": null,
       "grid_template_rows": null,
       "height": null,
       "justify_content": null,
       "justify_items": null,
       "left": null,
       "margin": null,
       "max_height": null,
       "max_width": null,
       "min_height": null,
       "min_width": null,
       "object_fit": null,
       "object_position": null,
       "order": null,
       "overflow": null,
       "overflow_x": null,
       "overflow_y": null,
       "padding": null,
       "right": null,
       "top": null,
       "visibility": null,
       "width": null
      }
     },
     "7386a5bd3eb34a0a9da7597b8d68a687": {
      "model_module": "@jupyter-widgets/controls",
      "model_module_version": "1.5.0",
      "model_name": "HBoxModel",
      "state": {
       "_dom_classes": [],
       "_model_module": "@jupyter-widgets/controls",
       "_model_module_version": "1.5.0",
       "_model_name": "HBoxModel",
       "_view_count": null,
       "_view_module": "@jupyter-widgets/controls",
       "_view_module_version": "1.5.0",
       "_view_name": "HBoxView",
       "box_style": "",
       "children": [
        "IPY_MODEL_e0da0fa6c3b649b5b31a41869dbaf598",
        "IPY_MODEL_8f4ebf24177a495a85304b3870f9aadc",
        "IPY_MODEL_22a99663b60c4c0c8491bbfe0bacea26"
       ],
       "layout": "IPY_MODEL_95125b2fbd774becb58a67842f62cae5"
      }
     },
     "7723079092e248a1a241ce58af8b5160": {
      "model_module": "@jupyter-widgets/base",
      "model_module_version": "1.2.0",
      "model_name": "LayoutModel",
      "state": {
       "_model_module": "@jupyter-widgets/base",
       "_model_module_version": "1.2.0",
       "_model_name": "LayoutModel",
       "_view_count": null,
       "_view_module": "@jupyter-widgets/base",
       "_view_module_version": "1.2.0",
       "_view_name": "LayoutView",
       "align_content": null,
       "align_items": null,
       "align_self": null,
       "border": null,
       "bottom": null,
       "display": null,
       "flex": null,
       "flex_flow": null,
       "grid_area": null,
       "grid_auto_columns": null,
       "grid_auto_flow": null,
       "grid_auto_rows": null,
       "grid_column": null,
       "grid_gap": null,
       "grid_row": null,
       "grid_template_areas": null,
       "grid_template_columns": null,
       "grid_template_rows": null,
       "height": null,
       "justify_content": null,
       "justify_items": null,
       "left": null,
       "margin": null,
       "max_height": null,
       "max_width": null,
       "min_height": null,
       "min_width": null,
       "object_fit": null,
       "object_position": null,
       "order": null,
       "overflow": null,
       "overflow_x": null,
       "overflow_y": null,
       "padding": null,
       "right": null,
       "top": null,
       "visibility": null,
       "width": null
      }
     },
     "7abb7f46781648469baaba2ebb5152a8": {
      "model_module": "@jupyter-widgets/controls",
      "model_module_version": "1.5.0",
      "model_name": "HTMLModel",
      "state": {
       "_dom_classes": [],
       "_model_module": "@jupyter-widgets/controls",
       "_model_module_version": "1.5.0",
       "_model_name": "HTMLModel",
       "_view_count": null,
       "_view_module": "@jupyter-widgets/controls",
       "_view_module_version": "1.5.0",
       "_view_name": "HTMLView",
       "description": "",
       "description_tooltip": null,
       "layout": "IPY_MODEL_f7e909e37278413f8299bccdda2f01ae",
       "placeholder": "​",
       "style": "IPY_MODEL_ac0bb7f271e7455880ed5b3d9e7f30e9",
       "value": "  0%"
      }
     },
     "7ed4c06532ac4e58a8e63ef709beeacc": {
      "model_module": "@jupyter-widgets/base",
      "model_module_version": "1.2.0",
      "model_name": "LayoutModel",
      "state": {
       "_model_module": "@jupyter-widgets/base",
       "_model_module_version": "1.2.0",
       "_model_name": "LayoutModel",
       "_view_count": null,
       "_view_module": "@jupyter-widgets/base",
       "_view_module_version": "1.2.0",
       "_view_name": "LayoutView",
       "align_content": null,
       "align_items": null,
       "align_self": null,
       "border": null,
       "bottom": null,
       "display": null,
       "flex": null,
       "flex_flow": null,
       "grid_area": null,
       "grid_auto_columns": null,
       "grid_auto_flow": null,
       "grid_auto_rows": null,
       "grid_column": null,
       "grid_gap": null,
       "grid_row": null,
       "grid_template_areas": null,
       "grid_template_columns": null,
       "grid_template_rows": null,
       "height": null,
       "justify_content": null,
       "justify_items": null,
       "left": null,
       "margin": null,
       "max_height": null,
       "max_width": null,
       "min_height": null,
       "min_width": null,
       "object_fit": null,
       "object_position": null,
       "order": null,
       "overflow": null,
       "overflow_x": null,
       "overflow_y": null,
       "padding": null,
       "right": null,
       "top": null,
       "visibility": null,
       "width": null
      }
     },
     "7fff61d63c1e4bb285c4d11242ce576b": {
      "model_module": "@jupyter-widgets/base",
      "model_module_version": "1.2.0",
      "model_name": "LayoutModel",
      "state": {
       "_model_module": "@jupyter-widgets/base",
       "_model_module_version": "1.2.0",
       "_model_name": "LayoutModel",
       "_view_count": null,
       "_view_module": "@jupyter-widgets/base",
       "_view_module_version": "1.2.0",
       "_view_name": "LayoutView",
       "align_content": null,
       "align_items": null,
       "align_self": null,
       "border": null,
       "bottom": null,
       "display": null,
       "flex": null,
       "flex_flow": null,
       "grid_area": null,
       "grid_auto_columns": null,
       "grid_auto_flow": null,
       "grid_auto_rows": null,
       "grid_column": null,
       "grid_gap": null,
       "grid_row": null,
       "grid_template_areas": null,
       "grid_template_columns": null,
       "grid_template_rows": null,
       "height": null,
       "justify_content": null,
       "justify_items": null,
       "left": null,
       "margin": null,
       "max_height": null,
       "max_width": null,
       "min_height": null,
       "min_width": null,
       "object_fit": null,
       "object_position": null,
       "order": null,
       "overflow": null,
       "overflow_x": null,
       "overflow_y": null,
       "padding": null,
       "right": null,
       "top": null,
       "visibility": null,
       "width": "20px"
      }
     },
     "827efb48d9264b35a1191cdd7bac89aa": {
      "model_module": "@jupyter-widgets/base",
      "model_module_version": "1.2.0",
      "model_name": "LayoutModel",
      "state": {
       "_model_module": "@jupyter-widgets/base",
       "_model_module_version": "1.2.0",
       "_model_name": "LayoutModel",
       "_view_count": null,
       "_view_module": "@jupyter-widgets/base",
       "_view_module_version": "1.2.0",
       "_view_name": "LayoutView",
       "align_content": null,
       "align_items": null,
       "align_self": null,
       "border": null,
       "bottom": null,
       "display": null,
       "flex": null,
       "flex_flow": null,
       "grid_area": null,
       "grid_auto_columns": null,
       "grid_auto_flow": null,
       "grid_auto_rows": null,
       "grid_column": null,
       "grid_gap": null,
       "grid_row": null,
       "grid_template_areas": null,
       "grid_template_columns": null,
       "grid_template_rows": null,
       "height": null,
       "justify_content": null,
       "justify_items": null,
       "left": null,
       "margin": null,
       "max_height": null,
       "max_width": null,
       "min_height": null,
       "min_width": null,
       "object_fit": null,
       "object_position": null,
       "order": null,
       "overflow": null,
       "overflow_x": null,
       "overflow_y": null,
       "padding": null,
       "right": null,
       "top": null,
       "visibility": null,
       "width": null
      }
     },
     "82e81fcd283b48f083d0ccbfa71e9611": {
      "model_module": "@jupyter-widgets/controls",
      "model_module_version": "1.5.0",
      "model_name": "DescriptionStyleModel",
      "state": {
       "_model_module": "@jupyter-widgets/controls",
       "_model_module_version": "1.5.0",
       "_model_name": "DescriptionStyleModel",
       "_view_count": null,
       "_view_module": "@jupyter-widgets/base",
       "_view_module_version": "1.2.0",
       "_view_name": "StyleView",
       "description_width": ""
      }
     },
     "83055af00d5c434fb457e4b18050e8d8": {
      "model_module": "@jupyter-widgets/controls",
      "model_module_version": "1.5.0",
      "model_name": "HTMLModel",
      "state": {
       "_dom_classes": [],
       "_model_module": "@jupyter-widgets/controls",
       "_model_module_version": "1.5.0",
       "_model_name": "HTMLModel",
       "_view_count": null,
       "_view_module": "@jupyter-widgets/controls",
       "_view_module_version": "1.5.0",
       "_view_name": "HTMLView",
       "description": "",
       "description_tooltip": null,
       "layout": "IPY_MODEL_564cd4854bbc4f6aa6695cae2abaca64",
       "placeholder": "​",
       "style": "IPY_MODEL_4d8e6f43b6254c0c9ef4adc3116f9052",
       "value": " 0/28881 [00:00&lt;?, ?it/s]"
      }
     },
     "8662388f588549f299fc6588205a7f2c": {
      "model_module": "@jupyter-widgets/controls",
      "model_module_version": "1.5.0",
      "model_name": "HTMLModel",
      "state": {
       "_dom_classes": [],
       "_model_module": "@jupyter-widgets/controls",
       "_model_module_version": "1.5.0",
       "_model_name": "HTMLModel",
       "_view_count": null,
       "_view_module": "@jupyter-widgets/controls",
       "_view_module_version": "1.5.0",
       "_view_name": "HTMLView",
       "description": "",
       "description_tooltip": null,
       "layout": "IPY_MODEL_39410ad684ba4e9da309a4fbf6628cc9",
       "placeholder": "​",
       "style": "IPY_MODEL_0afab6591d5b4bfa9d19332d1ec18587",
       "value": "  0%"
      }
     },
     "89c7bb2b822f4d549283377549dfa97c": {
      "model_module": "@jupyter-widgets/base",
      "model_module_version": "1.2.0",
      "model_name": "LayoutModel",
      "state": {
       "_model_module": "@jupyter-widgets/base",
       "_model_module_version": "1.2.0",
       "_model_name": "LayoutModel",
       "_view_count": null,
       "_view_module": "@jupyter-widgets/base",
       "_view_module_version": "1.2.0",
       "_view_name": "LayoutView",
       "align_content": null,
       "align_items": null,
       "align_self": null,
       "border": null,
       "bottom": null,
       "display": null,
       "flex": null,
       "flex_flow": null,
       "grid_area": null,
       "grid_auto_columns": null,
       "grid_auto_flow": null,
       "grid_auto_rows": null,
       "grid_column": null,
       "grid_gap": null,
       "grid_row": null,
       "grid_template_areas": null,
       "grid_template_columns": null,
       "grid_template_rows": null,
       "height": null,
       "justify_content": null,
       "justify_items": null,
       "left": null,
       "margin": null,
       "max_height": null,
       "max_width": null,
       "min_height": null,
       "min_width": null,
       "object_fit": null,
       "object_position": null,
       "order": null,
       "overflow": null,
       "overflow_x": null,
       "overflow_y": null,
       "padding": null,
       "right": null,
       "top": null,
       "visibility": null,
       "width": null
      }
     },
     "8d4db20d2a964eb882c433419ef4bdee": {
      "model_module": "@jupyter-widgets/base",
      "model_module_version": "1.2.0",
      "model_name": "LayoutModel",
      "state": {
       "_model_module": "@jupyter-widgets/base",
       "_model_module_version": "1.2.0",
       "_model_name": "LayoutModel",
       "_view_count": null,
       "_view_module": "@jupyter-widgets/base",
       "_view_module_version": "1.2.0",
       "_view_name": "LayoutView",
       "align_content": null,
       "align_items": null,
       "align_self": null,
       "border": null,
       "bottom": null,
       "display": null,
       "flex": null,
       "flex_flow": null,
       "grid_area": null,
       "grid_auto_columns": null,
       "grid_auto_flow": null,
       "grid_auto_rows": null,
       "grid_column": null,
       "grid_gap": null,
       "grid_row": null,
       "grid_template_areas": null,
       "grid_template_columns": null,
       "grid_template_rows": null,
       "height": null,
       "justify_content": null,
       "justify_items": null,
       "left": null,
       "margin": null,
       "max_height": null,
       "max_width": null,
       "min_height": null,
       "min_width": null,
       "object_fit": null,
       "object_position": null,
       "order": null,
       "overflow": null,
       "overflow_x": null,
       "overflow_y": null,
       "padding": null,
       "right": null,
       "top": null,
       "visibility": null,
       "width": null
      }
     },
     "8d600bc45a5f4134babbc58a8aa1f908": {
      "model_module": "@jupyter-widgets/base",
      "model_module_version": "1.2.0",
      "model_name": "LayoutModel",
      "state": {
       "_model_module": "@jupyter-widgets/base",
       "_model_module_version": "1.2.0",
       "_model_name": "LayoutModel",
       "_view_count": null,
       "_view_module": "@jupyter-widgets/base",
       "_view_module_version": "1.2.0",
       "_view_name": "LayoutView",
       "align_content": null,
       "align_items": null,
       "align_self": null,
       "border": null,
       "bottom": null,
       "display": null,
       "flex": null,
       "flex_flow": null,
       "grid_area": null,
       "grid_auto_columns": null,
       "grid_auto_flow": null,
       "grid_auto_rows": null,
       "grid_column": null,
       "grid_gap": null,
       "grid_row": null,
       "grid_template_areas": null,
       "grid_template_columns": null,
       "grid_template_rows": null,
       "height": null,
       "justify_content": null,
       "justify_items": null,
       "left": null,
       "margin": null,
       "max_height": null,
       "max_width": null,
       "min_height": null,
       "min_width": null,
       "object_fit": null,
       "object_position": null,
       "order": null,
       "overflow": null,
       "overflow_x": null,
       "overflow_y": null,
       "padding": null,
       "right": null,
       "top": null,
       "visibility": null,
       "width": null
      }
     },
     "8f4ebf24177a495a85304b3870f9aadc": {
      "model_module": "@jupyter-widgets/controls",
      "model_module_version": "1.5.0",
      "model_name": "FloatProgressModel",
      "state": {
       "_dom_classes": [],
       "_model_module": "@jupyter-widgets/controls",
       "_model_module_version": "1.5.0",
       "_model_name": "FloatProgressModel",
       "_view_count": null,
       "_view_module": "@jupyter-widgets/controls",
       "_view_module_version": "1.5.0",
       "_view_name": "ProgressView",
       "bar_style": "success",
       "description": "",
       "description_tooltip": null,
       "layout": "IPY_MODEL_420929cae0e34c72acaa9f72d20d1de1",
       "max": 600.0,
       "min": 0.0,
       "orientation": "horizontal",
       "style": "IPY_MODEL_e091a241fcc443f8a1ddb606014c9f26",
       "value": 600.0
      }
     },
     "95125b2fbd774becb58a67842f62cae5": {
      "model_module": "@jupyter-widgets/base",
      "model_module_version": "1.2.0",
      "model_name": "LayoutModel",
      "state": {
       "_model_module": "@jupyter-widgets/base",
       "_model_module_version": "1.2.0",
       "_model_name": "LayoutModel",
       "_view_count": null,
       "_view_module": "@jupyter-widgets/base",
       "_view_module_version": "1.2.0",
       "_view_name": "LayoutView",
       "align_content": null,
       "align_items": null,
       "align_self": null,
       "border": null,
       "bottom": null,
       "display": null,
       "flex": null,
       "flex_flow": null,
       "grid_area": null,
       "grid_auto_columns": null,
       "grid_auto_flow": null,
       "grid_auto_rows": null,
       "grid_column": null,
       "grid_gap": null,
       "grid_row": null,
       "grid_template_areas": null,
       "grid_template_columns": null,
       "grid_template_rows": null,
       "height": null,
       "justify_content": null,
       "justify_items": null,
       "left": null,
       "margin": null,
       "max_height": null,
       "max_width": null,
       "min_height": null,
       "min_width": null,
       "object_fit": null,
       "object_position": null,
       "order": null,
       "overflow": null,
       "overflow_x": null,
       "overflow_y": null,
       "padding": null,
       "right": null,
       "top": null,
       "visibility": null,
       "width": null
      }
     },
     "95c553ad40a6479baf417b3f671f7c95": {
      "model_module": "@jupyter-widgets/base",
      "model_module_version": "1.2.0",
      "model_name": "LayoutModel",
      "state": {
       "_model_module": "@jupyter-widgets/base",
       "_model_module_version": "1.2.0",
       "_model_name": "LayoutModel",
       "_view_count": null,
       "_view_module": "@jupyter-widgets/base",
       "_view_module_version": "1.2.0",
       "_view_name": "LayoutView",
       "align_content": null,
       "align_items": null,
       "align_self": null,
       "border": null,
       "bottom": null,
       "display": null,
       "flex": null,
       "flex_flow": null,
       "grid_area": null,
       "grid_auto_columns": null,
       "grid_auto_flow": null,
       "grid_auto_rows": null,
       "grid_column": null,
       "grid_gap": null,
       "grid_row": null,
       "grid_template_areas": null,
       "grid_template_columns": null,
       "grid_template_rows": null,
       "height": null,
       "justify_content": null,
       "justify_items": null,
       "left": null,
       "margin": null,
       "max_height": null,
       "max_width": null,
       "min_height": null,
       "min_width": null,
       "object_fit": null,
       "object_position": null,
       "order": null,
       "overflow": null,
       "overflow_x": null,
       "overflow_y": null,
       "padding": null,
       "right": null,
       "top": null,
       "visibility": null,
       "width": "20px"
      }
     },
     "999ff39189c8455187f73ecb1b31d081": {
      "model_module": "@jupyter-widgets/controls",
      "model_module_version": "1.5.0",
      "model_name": "ProgressStyleModel",
      "state": {
       "_model_module": "@jupyter-widgets/controls",
       "_model_module_version": "1.5.0",
       "_model_name": "ProgressStyleModel",
       "_view_count": null,
       "_view_module": "@jupyter-widgets/base",
       "_view_module_version": "1.2.0",
       "_view_name": "StyleView",
       "bar_color": null,
       "description_width": ""
      }
     },
     "9cabd8792f4a4ebbbc2626c4f90e7271": {
      "model_module": "@jupyter-widgets/controls",
      "model_module_version": "1.5.0",
      "model_name": "HBoxModel",
      "state": {
       "_dom_classes": [],
       "_model_module": "@jupyter-widgets/controls",
       "_model_module_version": "1.5.0",
       "_model_name": "HBoxModel",
       "_view_count": null,
       "_view_module": "@jupyter-widgets/controls",
       "_view_module_version": "1.5.0",
       "_view_name": "HBoxView",
       "box_style": "",
       "children": [
        "IPY_MODEL_259648d397924a798a1701cb9d1dec40",
        "IPY_MODEL_b6bcebf1c45a45fe991015388dd6aa16",
        "IPY_MODEL_b5e6299df3004711b72eb4ca8264c858"
       ],
       "layout": "IPY_MODEL_ed7b5caa7dd04e1f92f4eb12b77f3ca7"
      }
     },
     "9d0b795e2c3a48658899b9398231c618": {
      "model_module": "@jupyter-widgets/controls",
      "model_module_version": "1.5.0",
      "model_name": "HBoxModel",
      "state": {
       "_dom_classes": [],
       "_model_module": "@jupyter-widgets/controls",
       "_model_module_version": "1.5.0",
       "_model_name": "HBoxModel",
       "_view_count": null,
       "_view_module": "@jupyter-widgets/controls",
       "_view_module_version": "1.5.0",
       "_view_name": "HBoxView",
       "box_style": "",
       "children": [
        "IPY_MODEL_c309edd47ae54ad79c291a2b72b82cad",
        "IPY_MODEL_e5ca384cc35746ca8e98aa18ac71e672",
        "IPY_MODEL_dd00145bfcc24776850c86b622bd6f53"
       ],
       "layout": "IPY_MODEL_a71b7b71a9ee4b62b6ab9184890e0d40"
      }
     },
     "9d70dbe87f254d5f8ea3ccc392c567ad": {
      "model_module": "@jupyter-widgets/controls",
      "model_module_version": "1.5.0",
      "model_name": "DescriptionStyleModel",
      "state": {
       "_model_module": "@jupyter-widgets/controls",
       "_model_module_version": "1.5.0",
       "_model_name": "DescriptionStyleModel",
       "_view_count": null,
       "_view_module": "@jupyter-widgets/base",
       "_view_module_version": "1.2.0",
       "_view_name": "StyleView",
       "description_width": ""
      }
     },
     "9dff7969b1644144b0ca487fefea3bdc": {
      "model_module": "@jupyter-widgets/controls",
      "model_module_version": "1.5.0",
      "model_name": "DescriptionStyleModel",
      "state": {
       "_model_module": "@jupyter-widgets/controls",
       "_model_module_version": "1.5.0",
       "_model_name": "DescriptionStyleModel",
       "_view_count": null,
       "_view_module": "@jupyter-widgets/base",
       "_view_module_version": "1.2.0",
       "_view_name": "StyleView",
       "description_width": ""
      }
     },
     "9e7c9086a2894ffb8d42473c58cca156": {
      "model_module": "@jupyter-widgets/controls",
      "model_module_version": "1.5.0",
      "model_name": "DescriptionStyleModel",
      "state": {
       "_model_module": "@jupyter-widgets/controls",
       "_model_module_version": "1.5.0",
       "_model_name": "DescriptionStyleModel",
       "_view_count": null,
       "_view_module": "@jupyter-widgets/base",
       "_view_module_version": "1.2.0",
       "_view_name": "StyleView",
       "description_width": ""
      }
     },
     "9f1457db08034cb184c297488cac86cb": {
      "model_module": "@jupyter-widgets/controls",
      "model_module_version": "1.5.0",
      "model_name": "ProgressStyleModel",
      "state": {
       "_model_module": "@jupyter-widgets/controls",
       "_model_module_version": "1.5.0",
       "_model_name": "ProgressStyleModel",
       "_view_count": null,
       "_view_module": "@jupyter-widgets/base",
       "_view_module_version": "1.2.0",
       "_view_name": "StyleView",
       "bar_color": null,
       "description_width": ""
      }
     },
     "a11fdca44db342fe9df7020e6d48bdca": {
      "model_module": "@jupyter-widgets/base",
      "model_module_version": "1.2.0",
      "model_name": "LayoutModel",
      "state": {
       "_model_module": "@jupyter-widgets/base",
       "_model_module_version": "1.2.0",
       "_model_name": "LayoutModel",
       "_view_count": null,
       "_view_module": "@jupyter-widgets/base",
       "_view_module_version": "1.2.0",
       "_view_name": "LayoutView",
       "align_content": null,
       "align_items": null,
       "align_self": null,
       "border": null,
       "bottom": null,
       "display": null,
       "flex": null,
       "flex_flow": null,
       "grid_area": null,
       "grid_auto_columns": null,
       "grid_auto_flow": null,
       "grid_auto_rows": null,
       "grid_column": null,
       "grid_gap": null,
       "grid_row": null,
       "grid_template_areas": null,
       "grid_template_columns": null,
       "grid_template_rows": null,
       "height": null,
       "justify_content": null,
       "justify_items": null,
       "left": null,
       "margin": null,
       "max_height": null,
       "max_width": null,
       "min_height": null,
       "min_width": null,
       "object_fit": null,
       "object_position": null,
       "order": null,
       "overflow": null,
       "overflow_x": null,
       "overflow_y": null,
       "padding": null,
       "right": null,
       "top": null,
       "visibility": null,
       "width": null
      }
     },
     "a3889dc63aa84b51a975fbcd1507b0e2": {
      "model_module": "@jupyter-widgets/base",
      "model_module_version": "1.2.0",
      "model_name": "LayoutModel",
      "state": {
       "_model_module": "@jupyter-widgets/base",
       "_model_module_version": "1.2.0",
       "_model_name": "LayoutModel",
       "_view_count": null,
       "_view_module": "@jupyter-widgets/base",
       "_view_module_version": "1.2.0",
       "_view_name": "LayoutView",
       "align_content": null,
       "align_items": null,
       "align_self": null,
       "border": null,
       "bottom": null,
       "display": null,
       "flex": null,
       "flex_flow": null,
       "grid_area": null,
       "grid_auto_columns": null,
       "grid_auto_flow": null,
       "grid_auto_rows": null,
       "grid_column": null,
       "grid_gap": null,
       "grid_row": null,
       "grid_template_areas": null,
       "grid_template_columns": null,
       "grid_template_rows": null,
       "height": null,
       "justify_content": null,
       "justify_items": null,
       "left": null,
       "margin": null,
       "max_height": null,
       "max_width": null,
       "min_height": null,
       "min_width": null,
       "object_fit": null,
       "object_position": null,
       "order": null,
       "overflow": null,
       "overflow_x": null,
       "overflow_y": null,
       "padding": null,
       "right": null,
       "top": null,
       "visibility": null,
       "width": null
      }
     },
     "a4beb6e2bd2a4e3291a097ef40871f47": {
      "model_module": "@jupyter-widgets/controls",
      "model_module_version": "1.5.0",
      "model_name": "HTMLModel",
      "state": {
       "_dom_classes": [],
       "_model_module": "@jupyter-widgets/controls",
       "_model_module_version": "1.5.0",
       "_model_name": "HTMLModel",
       "_view_count": null,
       "_view_module": "@jupyter-widgets/controls",
       "_view_module_version": "1.5.0",
       "_view_name": "HTMLView",
       "description": "",
       "description_tooltip": null,
       "layout": "IPY_MODEL_7723079092e248a1a241ce58af8b5160",
       "placeholder": "​",
       "style": "IPY_MODEL_aa83e65507824e51b4735f84bd45003b",
       "value": " 600/600 [00:33&lt;00:00, 18.57it/s]"
      }
     },
     "a59604c8ef9f44c9a49a4575d8cb0e3f": {
      "model_module": "@jupyter-widgets/controls",
      "model_module_version": "1.5.0",
      "model_name": "ProgressStyleModel",
      "state": {
       "_model_module": "@jupyter-widgets/controls",
       "_model_module_version": "1.5.0",
       "_model_name": "ProgressStyleModel",
       "_view_count": null,
       "_view_module": "@jupyter-widgets/base",
       "_view_module_version": "1.2.0",
       "_view_name": "StyleView",
       "bar_color": null,
       "description_width": ""
      }
     },
     "a655761f281b473cb8ab4e9843a7a54c": {
      "model_module": "@jupyter-widgets/controls",
      "model_module_version": "1.5.0",
      "model_name": "HBoxModel",
      "state": {
       "_dom_classes": [],
       "_model_module": "@jupyter-widgets/controls",
       "_model_module_version": "1.5.0",
       "_model_name": "HBoxModel",
       "_view_count": null,
       "_view_module": "@jupyter-widgets/controls",
       "_view_module_version": "1.5.0",
       "_view_name": "HBoxView",
       "box_style": "",
       "children": [
        "IPY_MODEL_7abb7f46781648469baaba2ebb5152a8",
        "IPY_MODEL_ec5ae7db3c4346bd9b5b826cd8a5cde9",
        "IPY_MODEL_83055af00d5c434fb457e4b18050e8d8"
       ],
       "layout": "IPY_MODEL_e5181a4aa1fa48bf872caecd200fb60d"
      }
     },
     "a71b7b71a9ee4b62b6ab9184890e0d40": {
      "model_module": "@jupyter-widgets/base",
      "model_module_version": "1.2.0",
      "model_name": "LayoutModel",
      "state": {
       "_model_module": "@jupyter-widgets/base",
       "_model_module_version": "1.2.0",
       "_model_name": "LayoutModel",
       "_view_count": null,
       "_view_module": "@jupyter-widgets/base",
       "_view_module_version": "1.2.0",
       "_view_name": "LayoutView",
       "align_content": null,
       "align_items": null,
       "align_self": null,
       "border": null,
       "bottom": null,
       "display": null,
       "flex": null,
       "flex_flow": null,
       "grid_area": null,
       "grid_auto_columns": null,
       "grid_auto_flow": null,
       "grid_auto_rows": null,
       "grid_column": null,
       "grid_gap": null,
       "grid_row": null,
       "grid_template_areas": null,
       "grid_template_columns": null,
       "grid_template_rows": null,
       "height": null,
       "justify_content": null,
       "justify_items": null,
       "left": null,
       "margin": null,
       "max_height": null,
       "max_width": null,
       "min_height": null,
       "min_width": null,
       "object_fit": null,
       "object_position": null,
       "order": null,
       "overflow": null,
       "overflow_x": null,
       "overflow_y": null,
       "padding": null,
       "right": null,
       "top": null,
       "visibility": null,
       "width": null
      }
     },
     "aa83e65507824e51b4735f84bd45003b": {
      "model_module": "@jupyter-widgets/controls",
      "model_module_version": "1.5.0",
      "model_name": "DescriptionStyleModel",
      "state": {
       "_model_module": "@jupyter-widgets/controls",
       "_model_module_version": "1.5.0",
       "_model_name": "DescriptionStyleModel",
       "_view_count": null,
       "_view_module": "@jupyter-widgets/base",
       "_view_module_version": "1.2.0",
       "_view_name": "StyleView",
       "description_width": ""
      }
     },
     "aac3e32e628b4be184dd674e53150d28": {
      "model_module": "@jupyter-widgets/base",
      "model_module_version": "1.2.0",
      "model_name": "LayoutModel",
      "state": {
       "_model_module": "@jupyter-widgets/base",
       "_model_module_version": "1.2.0",
       "_model_name": "LayoutModel",
       "_view_count": null,
       "_view_module": "@jupyter-widgets/base",
       "_view_module_version": "1.2.0",
       "_view_name": "LayoutView",
       "align_content": null,
       "align_items": null,
       "align_self": null,
       "border": null,
       "bottom": null,
       "display": null,
       "flex": null,
       "flex_flow": null,
       "grid_area": null,
       "grid_auto_columns": null,
       "grid_auto_flow": null,
       "grid_auto_rows": null,
       "grid_column": null,
       "grid_gap": null,
       "grid_row": null,
       "grid_template_areas": null,
       "grid_template_columns": null,
       "grid_template_rows": null,
       "height": null,
       "justify_content": null,
       "justify_items": null,
       "left": null,
       "margin": null,
       "max_height": null,
       "max_width": null,
       "min_height": null,
       "min_width": null,
       "object_fit": null,
       "object_position": null,
       "order": null,
       "overflow": null,
       "overflow_x": null,
       "overflow_y": null,
       "padding": null,
       "right": null,
       "top": null,
       "visibility": null,
       "width": null
      }
     },
     "ac0bb7f271e7455880ed5b3d9e7f30e9": {
      "model_module": "@jupyter-widgets/controls",
      "model_module_version": "1.5.0",
      "model_name": "DescriptionStyleModel",
      "state": {
       "_model_module": "@jupyter-widgets/controls",
       "_model_module_version": "1.5.0",
       "_model_name": "DescriptionStyleModel",
       "_view_count": null,
       "_view_module": "@jupyter-widgets/base",
       "_view_module_version": "1.2.0",
       "_view_name": "StyleView",
       "description_width": ""
      }
     },
     "ae11d2bb4646416686ccbd1515229f2d": {
      "model_module": "@jupyter-widgets/controls",
      "model_module_version": "1.5.0",
      "model_name": "FloatProgressModel",
      "state": {
       "_dom_classes": [],
       "_model_module": "@jupyter-widgets/controls",
       "_model_module_version": "1.5.0",
       "_model_name": "FloatProgressModel",
       "_view_count": null,
       "_view_module": "@jupyter-widgets/controls",
       "_view_module_version": "1.5.0",
       "_view_name": "ProgressView",
       "bar_style": "success",
       "description": "",
       "description_tooltip": null,
       "layout": "IPY_MODEL_827efb48d9264b35a1191cdd7bac89aa",
       "max": 600.0,
       "min": 0.0,
       "orientation": "horizontal",
       "style": "IPY_MODEL_e3fe2daa9c0d4d0699de4c8b07b0392a",
       "value": 600.0
      }
     },
     "af071c8fff1447f3ad7b01fda9342dee": {
      "model_module": "@jupyter-widgets/base",
      "model_module_version": "1.2.0",
      "model_name": "LayoutModel",
      "state": {
       "_model_module": "@jupyter-widgets/base",
       "_model_module_version": "1.2.0",
       "_model_name": "LayoutModel",
       "_view_count": null,
       "_view_module": "@jupyter-widgets/base",
       "_view_module_version": "1.2.0",
       "_view_name": "LayoutView",
       "align_content": null,
       "align_items": null,
       "align_self": null,
       "border": null,
       "bottom": null,
       "display": null,
       "flex": null,
       "flex_flow": null,
       "grid_area": null,
       "grid_auto_columns": null,
       "grid_auto_flow": null,
       "grid_auto_rows": null,
       "grid_column": null,
       "grid_gap": null,
       "grid_row": null,
       "grid_template_areas": null,
       "grid_template_columns": null,
       "grid_template_rows": null,
       "height": null,
       "justify_content": null,
       "justify_items": null,
       "left": null,
       "margin": null,
       "max_height": null,
       "max_width": null,
       "min_height": null,
       "min_width": null,
       "object_fit": null,
       "object_position": null,
       "order": null,
       "overflow": null,
       "overflow_x": null,
       "overflow_y": null,
       "padding": null,
       "right": null,
       "top": null,
       "visibility": null,
       "width": null
      }
     },
     "afcd905a045844f5bebfdbdf13d53853": {
      "model_module": "@jupyter-widgets/controls",
      "model_module_version": "1.5.0",
      "model_name": "HTMLModel",
      "state": {
       "_dom_classes": [],
       "_model_module": "@jupyter-widgets/controls",
       "_model_module_version": "1.5.0",
       "_model_name": "HTMLModel",
       "_view_count": null,
       "_view_module": "@jupyter-widgets/controls",
       "_view_module_version": "1.5.0",
       "_view_name": "HTMLView",
       "description": "",
       "description_tooltip": null,
       "layout": "IPY_MODEL_7ed4c06532ac4e58a8e63ef709beeacc",
       "placeholder": "​",
       "style": "IPY_MODEL_b71994669acf454facb913b705868462",
       "value": "100%"
      }
     },
     "b072f9bdb5314f2c8fe923f3791033a2": {
      "model_module": "@jupyter-widgets/base",
      "model_module_version": "1.2.0",
      "model_name": "LayoutModel",
      "state": {
       "_model_module": "@jupyter-widgets/base",
       "_model_module_version": "1.2.0",
       "_model_name": "LayoutModel",
       "_view_count": null,
       "_view_module": "@jupyter-widgets/base",
       "_view_module_version": "1.2.0",
       "_view_name": "LayoutView",
       "align_content": null,
       "align_items": null,
       "align_self": null,
       "border": null,
       "bottom": null,
       "display": null,
       "flex": null,
       "flex_flow": null,
       "grid_area": null,
       "grid_auto_columns": null,
       "grid_auto_flow": null,
       "grid_auto_rows": null,
       "grid_column": null,
       "grid_gap": null,
       "grid_row": null,
       "grid_template_areas": null,
       "grid_template_columns": null,
       "grid_template_rows": null,
       "height": null,
       "justify_content": null,
       "justify_items": null,
       "left": null,
       "margin": null,
       "max_height": null,
       "max_width": null,
       "min_height": null,
       "min_width": null,
       "object_fit": null,
       "object_position": null,
       "order": null,
       "overflow": null,
       "overflow_x": null,
       "overflow_y": null,
       "padding": null,
       "right": null,
       "top": null,
       "visibility": null,
       "width": null
      }
     },
     "b44c327e7b2948238eaa08eab1a4d84f": {
      "model_module": "@jupyter-widgets/controls",
      "model_module_version": "1.5.0",
      "model_name": "HBoxModel",
      "state": {
       "_dom_classes": [],
       "_model_module": "@jupyter-widgets/controls",
       "_model_module_version": "1.5.0",
       "_model_name": "HBoxModel",
       "_view_count": null,
       "_view_module": "@jupyter-widgets/controls",
       "_view_module_version": "1.5.0",
       "_view_name": "HBoxView",
       "box_style": "",
       "children": [
        "IPY_MODEL_ffe067f218e24ceb9b9ecd8ab8161c66",
        "IPY_MODEL_e882400ac8d34f8cae279c84f69d93be",
        "IPY_MODEL_6c06204273b64a2daa42bdcdd089ba9a"
       ],
       "layout": "IPY_MODEL_b072f9bdb5314f2c8fe923f3791033a2"
      }
     },
     "b4b806419f6a4d75a13d4077233fa78e": {
      "model_module": "@jupyter-widgets/controls",
      "model_module_version": "1.5.0",
      "model_name": "DescriptionStyleModel",
      "state": {
       "_model_module": "@jupyter-widgets/controls",
       "_model_module_version": "1.5.0",
       "_model_name": "DescriptionStyleModel",
       "_view_count": null,
       "_view_module": "@jupyter-widgets/base",
       "_view_module_version": "1.2.0",
       "_view_name": "StyleView",
       "description_width": ""
      }
     },
     "b5e6299df3004711b72eb4ca8264c858": {
      "model_module": "@jupyter-widgets/controls",
      "model_module_version": "1.5.0",
      "model_name": "HTMLModel",
      "state": {
       "_dom_classes": [],
       "_model_module": "@jupyter-widgets/controls",
       "_model_module_version": "1.5.0",
       "_model_name": "HTMLModel",
       "_view_count": null,
       "_view_module": "@jupyter-widgets/controls",
       "_view_module_version": "1.5.0",
       "_view_name": "HTMLView",
       "description": "",
       "description_tooltip": null,
       "layout": "IPY_MODEL_aac3e32e628b4be184dd674e53150d28",
       "placeholder": "​",
       "style": "IPY_MODEL_10d4a0a2de6d4e1ca078050b9f9db879",
       "value": " 100/100 [00:02&lt;00:00, 47.31it/s]"
      }
     },
     "b6bcebf1c45a45fe991015388dd6aa16": {
      "model_module": "@jupyter-widgets/controls",
      "model_module_version": "1.5.0",
      "model_name": "FloatProgressModel",
      "state": {
       "_dom_classes": [],
       "_model_module": "@jupyter-widgets/controls",
       "_model_module_version": "1.5.0",
       "_model_name": "FloatProgressModel",
       "_view_count": null,
       "_view_module": "@jupyter-widgets/controls",
       "_view_module_version": "1.5.0",
       "_view_name": "ProgressView",
       "bar_style": "success",
       "description": "",
       "description_tooltip": null,
       "layout": "IPY_MODEL_71e36d9bf20245d3a3f9bb97ca1d0a29",
       "max": 100.0,
       "min": 0.0,
       "orientation": "horizontal",
       "style": "IPY_MODEL_10071f87068e4cfd9e66d1216168ad0c",
       "value": 100.0
      }
     },
     "b71994669acf454facb913b705868462": {
      "model_module": "@jupyter-widgets/controls",
      "model_module_version": "1.5.0",
      "model_name": "DescriptionStyleModel",
      "state": {
       "_model_module": "@jupyter-widgets/controls",
       "_model_module_version": "1.5.0",
       "_model_name": "DescriptionStyleModel",
       "_view_count": null,
       "_view_module": "@jupyter-widgets/base",
       "_view_module_version": "1.2.0",
       "_view_name": "StyleView",
       "description_width": ""
      }
     },
     "bcc4c57648af4d2ab2f6544b135130e8": {
      "model_module": "@jupyter-widgets/controls",
      "model_module_version": "1.5.0",
      "model_name": "ProgressStyleModel",
      "state": {
       "_model_module": "@jupyter-widgets/controls",
       "_model_module_version": "1.5.0",
       "_model_name": "ProgressStyleModel",
       "_view_count": null,
       "_view_module": "@jupyter-widgets/base",
       "_view_module_version": "1.2.0",
       "_view_name": "StyleView",
       "bar_color": null,
       "description_width": ""
      }
     },
     "c309edd47ae54ad79c291a2b72b82cad": {
      "model_module": "@jupyter-widgets/controls",
      "model_module_version": "1.5.0",
      "model_name": "HTMLModel",
      "state": {
       "_dom_classes": [],
       "_model_module": "@jupyter-widgets/controls",
       "_model_module_version": "1.5.0",
       "_model_name": "HTMLModel",
       "_view_count": null,
       "_view_module": "@jupyter-widgets/controls",
       "_view_module_version": "1.5.0",
       "_view_name": "HTMLView",
       "description": "",
       "description_tooltip": null,
       "layout": "IPY_MODEL_0cb589f9ee3c43ea88ebb2e2c6139303",
       "placeholder": "​",
       "style": "IPY_MODEL_d48d71c682074c499d6554f95c3fd9b1",
       "value": ""
      }
     },
     "c9bb48b45bea4c44bcc40690c9363311": {
      "model_module": "@jupyter-widgets/controls",
      "model_module_version": "1.5.0",
      "model_name": "FloatProgressModel",
      "state": {
       "_dom_classes": [],
       "_model_module": "@jupyter-widgets/controls",
       "_model_module_version": "1.5.0",
       "_model_name": "FloatProgressModel",
       "_view_count": null,
       "_view_module": "@jupyter-widgets/controls",
       "_view_module_version": "1.5.0",
       "_view_name": "ProgressView",
       "bar_style": "success",
       "description": "",
       "description_tooltip": null,
       "layout": "IPY_MODEL_af071c8fff1447f3ad7b01fda9342dee",
       "max": 600.0,
       "min": 0.0,
       "orientation": "horizontal",
       "style": "IPY_MODEL_cb1544def58a4c8db83358e79aedf73a",
       "value": 600.0
      }
     },
     "cb1544def58a4c8db83358e79aedf73a": {
      "model_module": "@jupyter-widgets/controls",
      "model_module_version": "1.5.0",
      "model_name": "ProgressStyleModel",
      "state": {
       "_model_module": "@jupyter-widgets/controls",
       "_model_module_version": "1.5.0",
       "_model_name": "ProgressStyleModel",
       "_view_count": null,
       "_view_module": "@jupyter-widgets/base",
       "_view_module_version": "1.2.0",
       "_view_name": "StyleView",
       "bar_color": null,
       "description_width": ""
      }
     },
     "cb4192ea911941248e6e31cf8ec3ab1d": {
      "model_module": "@jupyter-widgets/controls",
      "model_module_version": "1.5.0",
      "model_name": "DescriptionStyleModel",
      "state": {
       "_model_module": "@jupyter-widgets/controls",
       "_model_module_version": "1.5.0",
       "_model_name": "DescriptionStyleModel",
       "_view_count": null,
       "_view_module": "@jupyter-widgets/base",
       "_view_module_version": "1.2.0",
       "_view_name": "StyleView",
       "description_width": ""
      }
     },
     "d48d71c682074c499d6554f95c3fd9b1": {
      "model_module": "@jupyter-widgets/controls",
      "model_module_version": "1.5.0",
      "model_name": "DescriptionStyleModel",
      "state": {
       "_model_module": "@jupyter-widgets/controls",
       "_model_module_version": "1.5.0",
       "_model_name": "DescriptionStyleModel",
       "_view_count": null,
       "_view_module": "@jupyter-widgets/base",
       "_view_module_version": "1.2.0",
       "_view_name": "StyleView",
       "description_width": ""
      }
     },
     "d90d12f9618b46fab95862b62fb79f95": {
      "model_module": "@jupyter-widgets/controls",
      "model_module_version": "1.5.0",
      "model_name": "HBoxModel",
      "state": {
       "_dom_classes": [],
       "_model_module": "@jupyter-widgets/controls",
       "_model_module_version": "1.5.0",
       "_model_name": "HBoxModel",
       "_view_count": null,
       "_view_module": "@jupyter-widgets/controls",
       "_view_module_version": "1.5.0",
       "_view_name": "HBoxView",
       "box_style": "",
       "children": [
        "IPY_MODEL_ff00d3de4305419ca3c62ea70c2be758",
        "IPY_MODEL_545f0319f946429bbcd35f24381e7ff4",
        "IPY_MODEL_e5aff7af897f4aa988539f3a7f7ed92b"
       ],
       "layout": "IPY_MODEL_5a4af5a203534a068d6f2f22126b94ab"
      }
     },
     "dd00145bfcc24776850c86b622bd6f53": {
      "model_module": "@jupyter-widgets/controls",
      "model_module_version": "1.5.0",
      "model_name": "HTMLModel",
      "state": {
       "_dom_classes": [],
       "_model_module": "@jupyter-widgets/controls",
       "_model_module_version": "1.5.0",
       "_model_name": "HTMLModel",
       "_view_count": null,
       "_view_module": "@jupyter-widgets/controls",
       "_view_module_version": "1.5.0",
       "_view_name": "HTMLView",
       "description": "",
       "description_tooltip": null,
       "layout": "IPY_MODEL_e97a744f2e3a46569df80ebe02317f51",
       "placeholder": "​",
       "style": "IPY_MODEL_9e7c9086a2894ffb8d42473c58cca156",
       "value": " 9920512/? [00:16&lt;00:00, 48671428.88it/s]"
      }
     },
     "e07535bf68084dadb71a095628c33321": {
      "model_module": "@jupyter-widgets/controls",
      "model_module_version": "1.5.0",
      "model_name": "HBoxModel",
      "state": {
       "_dom_classes": [],
       "_model_module": "@jupyter-widgets/controls",
       "_model_module_version": "1.5.0",
       "_model_name": "HBoxModel",
       "_view_count": null,
       "_view_module": "@jupyter-widgets/controls",
       "_view_module_version": "1.5.0",
       "_view_name": "HBoxView",
       "box_style": "",
       "children": [
        "IPY_MODEL_afcd905a045844f5bebfdbdf13d53853",
        "IPY_MODEL_ae11d2bb4646416686ccbd1515229f2d",
        "IPY_MODEL_01ebcbeb007d4940b6061796a20adf4c"
       ],
       "layout": "IPY_MODEL_e171a36a579b488eb6c52868ab484f55"
      }
     },
     "e091a241fcc443f8a1ddb606014c9f26": {
      "model_module": "@jupyter-widgets/controls",
      "model_module_version": "1.5.0",
      "model_name": "ProgressStyleModel",
      "state": {
       "_model_module": "@jupyter-widgets/controls",
       "_model_module_version": "1.5.0",
       "_model_name": "ProgressStyleModel",
       "_view_count": null,
       "_view_module": "@jupyter-widgets/base",
       "_view_module_version": "1.2.0",
       "_view_name": "StyleView",
       "bar_color": null,
       "description_width": ""
      }
     },
     "e0da0fa6c3b649b5b31a41869dbaf598": {
      "model_module": "@jupyter-widgets/controls",
      "model_module_version": "1.5.0",
      "model_name": "HTMLModel",
      "state": {
       "_dom_classes": [],
       "_model_module": "@jupyter-widgets/controls",
       "_model_module_version": "1.5.0",
       "_model_name": "HTMLModel",
       "_view_count": null,
       "_view_module": "@jupyter-widgets/controls",
       "_view_module_version": "1.5.0",
       "_view_name": "HTMLView",
       "description": "",
       "description_tooltip": null,
       "layout": "IPY_MODEL_8d600bc45a5f4134babbc58a8aa1f908",
       "placeholder": "​",
       "style": "IPY_MODEL_82e81fcd283b48f083d0ccbfa71e9611",
       "value": "100%"
      }
     },
     "e171a36a579b488eb6c52868ab484f55": {
      "model_module": "@jupyter-widgets/base",
      "model_module_version": "1.2.0",
      "model_name": "LayoutModel",
      "state": {
       "_model_module": "@jupyter-widgets/base",
       "_model_module_version": "1.2.0",
       "_model_name": "LayoutModel",
       "_view_count": null,
       "_view_module": "@jupyter-widgets/base",
       "_view_module_version": "1.2.0",
       "_view_name": "LayoutView",
       "align_content": null,
       "align_items": null,
       "align_self": null,
       "border": null,
       "bottom": null,
       "display": null,
       "flex": null,
       "flex_flow": null,
       "grid_area": null,
       "grid_auto_columns": null,
       "grid_auto_flow": null,
       "grid_auto_rows": null,
       "grid_column": null,
       "grid_gap": null,
       "grid_row": null,
       "grid_template_areas": null,
       "grid_template_columns": null,
       "grid_template_rows": null,
       "height": null,
       "justify_content": null,
       "justify_items": null,
       "left": null,
       "margin": null,
       "max_height": null,
       "max_width": null,
       "min_height": null,
       "min_width": null,
       "object_fit": null,
       "object_position": null,
       "order": null,
       "overflow": null,
       "overflow_x": null,
       "overflow_y": null,
       "padding": null,
       "right": null,
       "top": null,
       "visibility": null,
       "width": null
      }
     },
     "e3fe2daa9c0d4d0699de4c8b07b0392a": {
      "model_module": "@jupyter-widgets/controls",
      "model_module_version": "1.5.0",
      "model_name": "ProgressStyleModel",
      "state": {
       "_model_module": "@jupyter-widgets/controls",
       "_model_module_version": "1.5.0",
       "_model_name": "ProgressStyleModel",
       "_view_count": null,
       "_view_module": "@jupyter-widgets/base",
       "_view_module_version": "1.2.0",
       "_view_name": "StyleView",
       "bar_color": null,
       "description_width": ""
      }
     },
     "e5181a4aa1fa48bf872caecd200fb60d": {
      "model_module": "@jupyter-widgets/base",
      "model_module_version": "1.2.0",
      "model_name": "LayoutModel",
      "state": {
       "_model_module": "@jupyter-widgets/base",
       "_model_module_version": "1.2.0",
       "_model_name": "LayoutModel",
       "_view_count": null,
       "_view_module": "@jupyter-widgets/base",
       "_view_module_version": "1.2.0",
       "_view_name": "LayoutView",
       "align_content": null,
       "align_items": null,
       "align_self": null,
       "border": null,
       "bottom": null,
       "display": null,
       "flex": null,
       "flex_flow": null,
       "grid_area": null,
       "grid_auto_columns": null,
       "grid_auto_flow": null,
       "grid_auto_rows": null,
       "grid_column": null,
       "grid_gap": null,
       "grid_row": null,
       "grid_template_areas": null,
       "grid_template_columns": null,
       "grid_template_rows": null,
       "height": null,
       "justify_content": null,
       "justify_items": null,
       "left": null,
       "margin": null,
       "max_height": null,
       "max_width": null,
       "min_height": null,
       "min_width": null,
       "object_fit": null,
       "object_position": null,
       "order": null,
       "overflow": null,
       "overflow_x": null,
       "overflow_y": null,
       "padding": null,
       "right": null,
       "top": null,
       "visibility": null,
       "width": null
      }
     },
     "e5aff7af897f4aa988539f3a7f7ed92b": {
      "model_module": "@jupyter-widgets/controls",
      "model_module_version": "1.5.0",
      "model_name": "HTMLModel",
      "state": {
       "_dom_classes": [],
       "_model_module": "@jupyter-widgets/controls",
       "_model_module_version": "1.5.0",
       "_model_name": "HTMLModel",
       "_view_count": null,
       "_view_module": "@jupyter-widgets/controls",
       "_view_module_version": "1.5.0",
       "_view_name": "HTMLView",
       "description": "",
       "description_tooltip": null,
       "layout": "IPY_MODEL_6e0c1a6136fd496a88ad94d1d93f7ee6",
       "placeholder": "​",
       "style": "IPY_MODEL_9dff7969b1644144b0ca487fefea3bdc",
       "value": " 0/4542 [00:00&lt;?, ?it/s]"
      }
     },
     "e5ca384cc35746ca8e98aa18ac71e672": {
      "model_module": "@jupyter-widgets/controls",
      "model_module_version": "1.5.0",
      "model_name": "FloatProgressModel",
      "state": {
       "_dom_classes": [],
       "_model_module": "@jupyter-widgets/controls",
       "_model_module_version": "1.5.0",
       "_model_name": "FloatProgressModel",
       "_view_count": null,
       "_view_module": "@jupyter-widgets/controls",
       "_view_module_version": "1.5.0",
       "_view_name": "ProgressView",
       "bar_style": "info",
       "description": "",
       "description_tooltip": null,
       "layout": "IPY_MODEL_7fff61d63c1e4bb285c4d11242ce576b",
       "max": 1.0,
       "min": 0.0,
       "orientation": "horizontal",
       "style": "IPY_MODEL_156d2fba772a43acac37b4c112f57617",
       "value": 1.0
      }
     },
     "e882400ac8d34f8cae279c84f69d93be": {
      "model_module": "@jupyter-widgets/controls",
      "model_module_version": "1.5.0",
      "model_name": "FloatProgressModel",
      "state": {
       "_dom_classes": [],
       "_model_module": "@jupyter-widgets/controls",
       "_model_module_version": "1.5.0",
       "_model_name": "FloatProgressModel",
       "_view_count": null,
       "_view_module": "@jupyter-widgets/controls",
       "_view_module_version": "1.5.0",
       "_view_name": "ProgressView",
       "bar_style": "success",
       "description": "",
       "description_tooltip": null,
       "layout": "IPY_MODEL_0d367dd3e8444710a463e4f7ca8fc667",
       "max": 100.0,
       "min": 0.0,
       "orientation": "horizontal",
       "style": "IPY_MODEL_999ff39189c8455187f73ecb1b31d081",
       "value": 100.0
      }
     },
     "e97a744f2e3a46569df80ebe02317f51": {
      "model_module": "@jupyter-widgets/base",
      "model_module_version": "1.2.0",
      "model_name": "LayoutModel",
      "state": {
       "_model_module": "@jupyter-widgets/base",
       "_model_module_version": "1.2.0",
       "_model_name": "LayoutModel",
       "_view_count": null,
       "_view_module": "@jupyter-widgets/base",
       "_view_module_version": "1.2.0",
       "_view_name": "LayoutView",
       "align_content": null,
       "align_items": null,
       "align_self": null,
       "border": null,
       "bottom": null,
       "display": null,
       "flex": null,
       "flex_flow": null,
       "grid_area": null,
       "grid_auto_columns": null,
       "grid_auto_flow": null,
       "grid_auto_rows": null,
       "grid_column": null,
       "grid_gap": null,
       "grid_row": null,
       "grid_template_areas": null,
       "grid_template_columns": null,
       "grid_template_rows": null,
       "height": null,
       "justify_content": null,
       "justify_items": null,
       "left": null,
       "margin": null,
       "max_height": null,
       "max_width": null,
       "min_height": null,
       "min_width": null,
       "object_fit": null,
       "object_position": null,
       "order": null,
       "overflow": null,
       "overflow_x": null,
       "overflow_y": null,
       "padding": null,
       "right": null,
       "top": null,
       "visibility": null,
       "width": null
      }
     },
     "ec5ae7db3c4346bd9b5b826cd8a5cde9": {
      "model_module": "@jupyter-widgets/controls",
      "model_module_version": "1.5.0",
      "model_name": "FloatProgressModel",
      "state": {
       "_dom_classes": [],
       "_model_module": "@jupyter-widgets/controls",
       "_model_module_version": "1.5.0",
       "_model_name": "FloatProgressModel",
       "_view_count": null,
       "_view_module": "@jupyter-widgets/controls",
       "_view_module_version": "1.5.0",
       "_view_name": "ProgressView",
       "bar_style": "info",
       "description": "",
       "description_tooltip": null,
       "layout": "IPY_MODEL_95c553ad40a6479baf417b3f671f7c95",
       "max": 1.0,
       "min": 0.0,
       "orientation": "horizontal",
       "style": "IPY_MODEL_9f1457db08034cb184c297488cac86cb",
       "value": 0.0
      }
     },
     "ed7b5caa7dd04e1f92f4eb12b77f3ca7": {
      "model_module": "@jupyter-widgets/base",
      "model_module_version": "1.2.0",
      "model_name": "LayoutModel",
      "state": {
       "_model_module": "@jupyter-widgets/base",
       "_model_module_version": "1.2.0",
       "_model_name": "LayoutModel",
       "_view_count": null,
       "_view_module": "@jupyter-widgets/base",
       "_view_module_version": "1.2.0",
       "_view_name": "LayoutView",
       "align_content": null,
       "align_items": null,
       "align_self": null,
       "border": null,
       "bottom": null,
       "display": null,
       "flex": null,
       "flex_flow": null,
       "grid_area": null,
       "grid_auto_columns": null,
       "grid_auto_flow": null,
       "grid_auto_rows": null,
       "grid_column": null,
       "grid_gap": null,
       "grid_row": null,
       "grid_template_areas": null,
       "grid_template_columns": null,
       "grid_template_rows": null,
       "height": null,
       "justify_content": null,
       "justify_items": null,
       "left": null,
       "margin": null,
       "max_height": null,
       "max_width": null,
       "min_height": null,
       "min_width": null,
       "object_fit": null,
       "object_position": null,
       "order": null,
       "overflow": null,
       "overflow_x": null,
       "overflow_y": null,
       "padding": null,
       "right": null,
       "top": null,
       "visibility": null,
       "width": null
      }
     },
     "ed9589c28e8d4c7d91b461b4db0addb8": {
      "model_module": "@jupyter-widgets/controls",
      "model_module_version": "1.5.0",
      "model_name": "DescriptionStyleModel",
      "state": {
       "_model_module": "@jupyter-widgets/controls",
       "_model_module_version": "1.5.0",
       "_model_name": "DescriptionStyleModel",
       "_view_count": null,
       "_view_module": "@jupyter-widgets/base",
       "_view_module_version": "1.2.0",
       "_view_name": "StyleView",
       "description_width": ""
      }
     },
     "f7e909e37278413f8299bccdda2f01ae": {
      "model_module": "@jupyter-widgets/base",
      "model_module_version": "1.2.0",
      "model_name": "LayoutModel",
      "state": {
       "_model_module": "@jupyter-widgets/base",
       "_model_module_version": "1.2.0",
       "_model_name": "LayoutModel",
       "_view_count": null,
       "_view_module": "@jupyter-widgets/base",
       "_view_module_version": "1.2.0",
       "_view_name": "LayoutView",
       "align_content": null,
       "align_items": null,
       "align_self": null,
       "border": null,
       "bottom": null,
       "display": null,
       "flex": null,
       "flex_flow": null,
       "grid_area": null,
       "grid_auto_columns": null,
       "grid_auto_flow": null,
       "grid_auto_rows": null,
       "grid_column": null,
       "grid_gap": null,
       "grid_row": null,
       "grid_template_areas": null,
       "grid_template_columns": null,
       "grid_template_rows": null,
       "height": null,
       "justify_content": null,
       "justify_items": null,
       "left": null,
       "margin": null,
       "max_height": null,
       "max_width": null,
       "min_height": null,
       "min_width": null,
       "object_fit": null,
       "object_position": null,
       "order": null,
       "overflow": null,
       "overflow_x": null,
       "overflow_y": null,
       "padding": null,
       "right": null,
       "top": null,
       "visibility": null,
       "width": null
      }
     },
     "f9a4d95bf2b740fe8e0369191a6f6003": {
      "model_module": "@jupyter-widgets/base",
      "model_module_version": "1.2.0",
      "model_name": "LayoutModel",
      "state": {
       "_model_module": "@jupyter-widgets/base",
       "_model_module_version": "1.2.0",
       "_model_name": "LayoutModel",
       "_view_count": null,
       "_view_module": "@jupyter-widgets/base",
       "_view_module_version": "1.2.0",
       "_view_name": "LayoutView",
       "align_content": null,
       "align_items": null,
       "align_self": null,
       "border": null,
       "bottom": null,
       "display": null,
       "flex": null,
       "flex_flow": null,
       "grid_area": null,
       "grid_auto_columns": null,
       "grid_auto_flow": null,
       "grid_auto_rows": null,
       "grid_column": null,
       "grid_gap": null,
       "grid_row": null,
       "grid_template_areas": null,
       "grid_template_columns": null,
       "grid_template_rows": null,
       "height": null,
       "justify_content": null,
       "justify_items": null,
       "left": null,
       "margin": null,
       "max_height": null,
       "max_width": null,
       "min_height": null,
       "min_width": null,
       "object_fit": null,
       "object_position": null,
       "order": null,
       "overflow": null,
       "overflow_x": null,
       "overflow_y": null,
       "padding": null,
       "right": null,
       "top": null,
       "visibility": null,
       "width": null
      }
     },
     "ff00d3de4305419ca3c62ea70c2be758": {
      "model_module": "@jupyter-widgets/controls",
      "model_module_version": "1.5.0",
      "model_name": "HTMLModel",
      "state": {
       "_dom_classes": [],
       "_model_module": "@jupyter-widgets/controls",
       "_model_module_version": "1.5.0",
       "_model_name": "HTMLModel",
       "_view_count": null,
       "_view_module": "@jupyter-widgets/controls",
       "_view_module_version": "1.5.0",
       "_view_name": "HTMLView",
       "description": "",
       "description_tooltip": null,
       "layout": "IPY_MODEL_8d4db20d2a964eb882c433419ef4bdee",
       "placeholder": "​",
       "style": "IPY_MODEL_3a3cebc1a5564d208c72806df960f34e",
       "value": "  0%"
      }
     },
     "ffe067f218e24ceb9b9ecd8ab8161c66": {
      "model_module": "@jupyter-widgets/controls",
      "model_module_version": "1.5.0",
      "model_name": "HTMLModel",
      "state": {
       "_dom_classes": [],
       "_model_module": "@jupyter-widgets/controls",
       "_model_module_version": "1.5.0",
       "_model_name": "HTMLModel",
       "_view_count": null,
       "_view_module": "@jupyter-widgets/controls",
       "_view_module_version": "1.5.0",
       "_view_name": "HTMLView",
       "description": "",
       "description_tooltip": null,
       "layout": "IPY_MODEL_06fc8369813e4d329da20e16dfc2ba2d",
       "placeholder": "​",
       "style": "IPY_MODEL_cb4192ea911941248e6e31cf8ec3ab1d",
       "value": "100%"
      }
     }
    },
    "version_major": 2,
    "version_minor": 0
   }
  }
 },
 "nbformat": 4,
 "nbformat_minor": 5
}
